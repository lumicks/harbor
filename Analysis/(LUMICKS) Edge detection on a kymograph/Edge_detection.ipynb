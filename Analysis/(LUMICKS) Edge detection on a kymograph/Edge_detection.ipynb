{
 "cells": [
  {
   "cell_type": "markdown",
   "id": "d4e0ba8b",
   "metadata": {},
   "source": [
    "# Edge detection\n",
    "\n",
    "This Notebook illustrates how to use the Kymotracker in Pylake to detect edges on a kymograph. In the example data, ssDNA is coated with RPA. A T7 Pol is performing exonucleolyis, thus increasing the region of ssDNA. This is seen as a wideining of the RPA region, in Blue. The aim is to find the speed of this widening, by detecting the edge of the RPA coated region."
   ]
  },
  {
   "cell_type": "code",
   "execution_count": null,
   "id": "39b23bc5",
   "metadata": {},
   "outputs": [],
   "source": [
    "import numpy as np\n",
    "import matplotlib.pyplot as plt\n",
    "from matplotlib.colors import LinearSegmentedColormap\n",
    "import lumicks.pylake as lk\n",
    "from skimage import filters\n",
    "\n",
    "%matplotlib widget\n",
    "\n",
    "linear_colormaps = {\n",
    "\"red\": LinearSegmentedColormap.from_list(\"red\", colors=[(0, 0, 0), (1, 0, 0)]),\n",
    "\"green\": LinearSegmentedColormap.from_list(\"green\", colors=[(0, 0, 0), (0, 1, 0)]),\n",
    "\"blue\": LinearSegmentedColormap.from_list(\"blue\", colors=[(0, 0, 0), (0, 0, 1)]),\n",
    "}\n",
    "\n",
    "lk.__version__"
   ]
  },
  {
   "cell_type": "code",
   "execution_count": null,
   "id": "76ed7eac",
   "metadata": {},
   "outputs": [],
   "source": [
    "f = lk.File('Kymograph_bp7_t1_pol_rpa_ext_short_nick_no_hf.h5')"
   ]
  },
  {
   "cell_type": "markdown",
   "id": "443d324c",
   "metadata": {},
   "source": [
    "### Plot the kymograph"
   ]
  },
  {
   "cell_type": "code",
   "execution_count": null,
   "id": "89f8faf7",
   "metadata": {},
   "outputs": [],
   "source": [
    "name, kymo = f.kymos.popitem()\n",
    "\n",
    "plt.figure()\n",
    "kymo.plot(channel = 'blue', vmax=4, aspect = 5) "
   ]
  },
  {
   "cell_type": "markdown",
   "id": "5034d7ad",
   "metadata": {},
   "source": [
    "The activity of T7 Pol depends on force. For high force, exonucleolysis dominates, while for low force polymerization dominates. In the kymograph, you can see the blue, RPA coated region increase and decrease over time as the force is increased and decreased respectively. Below, we select a region of interest for further analysis."
   ]
  },
  {
   "cell_type": "code",
   "execution_count": null,
   "id": "3252e480",
   "metadata": {
    "scrolled": true
   },
   "outputs": [],
   "source": [
    "kymo_slice=kymo['32s':'65s'] # Select the time range for which you want to compute the speeds\n",
    "plt.figure()\n",
    "kymo_slice.plot(channel = 'blue', vmax=4) # Adjust contrast here by changing the value of 'vmax'"
   ]
  },
  {
   "cell_type": "markdown",
   "id": "81a8293f",
   "metadata": {},
   "source": [
    "### Crop kymo to remove beads\n",
    "\n",
    "Remove the beads from the kymo by choosing the coordinates of the bead edges. "
   ]
  },
  {
   "cell_type": "code",
   "execution_count": null,
   "id": "40919ca1",
   "metadata": {},
   "outputs": [],
   "source": [
    "plt.figure()\n",
    "beadedge_top=3.4\n",
    "beadedge_bot= 5.8\n",
    "cropped_kymo = kymo_slice.crop_by_distance(beadedge_top,beadedge_bot)\n",
    "cropped_kymo.plot(channel = 'blue', vmax=4, aspect = 5)"
   ]
  },
  {
   "cell_type": "markdown",
   "id": "ee0f02b4",
   "metadata": {},
   "source": [
    "### Edge filter\n",
    "\n",
    "Below a so-called sobel image filter is applied, which highlights the edges in an image.\n",
    "A directional filter is applied, such that horizontal edges are emphasized, and vertical edges are ignored."
   ]
  },
  {
   "cell_type": "code",
   "execution_count": null,
   "id": "62fbf323",
   "metadata": {},
   "outputs": [],
   "source": [
    "image = cropped_kymo.get_image('blue')\n",
    "edge_filter = filters.sobel(image, axis=[0,0,0])\n",
    "\n",
    "plt.figure(figsize=(10,6))\n",
    "plt.imshow(edge_filter)\n",
    "plt.axis('tight')\n",
    "plt.tight_layout()\n",
    "plt.show()"
   ]
  },
  {
   "cell_type": "markdown",
   "id": "944b037c",
   "metadata": {},
   "source": [
    "In the image above, the two lines actually corerspond to the edges of the RPA region. To detect those edges, we are going to use the Kymotracker.\n",
    "\n",
    "### Create kymo image\n",
    "\n",
    "In the current version of Pylake (1.2), the Kymotracker only works on Pylake kymo objects. Therefore the image of the kymo has to be converted back to a kymo object."
   ]
  },
  {
   "cell_type": "code",
   "execution_count": null,
   "id": "f60a0309",
   "metadata": {},
   "outputs": [],
   "source": [
    "mock = lk.kymo._kymo_from_array(edge_filter, 'b', kymo.line_time_seconds, pixel_size_um=1.0)"
   ]
  },
  {
   "cell_type": "markdown",
   "id": "33df9155",
   "metadata": {},
   "source": [
    "## Use Kymotracker to detect edges\n",
    "\n",
    "Below, we are going to load the image with the highlighted edges as shown above into the kymotracker. Load the kymotracker and click 'Track all'. Adjust the tracking parameter and remove, connect or split tracks if needed. Then save the coordinates of the edges by clicking 'save.'"
   ]
  },
  {
   "cell_type": "code",
   "execution_count": null,
   "id": "ea6a72c6",
   "metadata": {},
   "outputs": [],
   "source": [
    "plt.close('all')\n",
    "\n",
    "kw_blue = lk.KymoWidgetGreedy(mock, \"blue\", pixel_threshold=3, axis_aspect_ratio=0.7, min_length=10, window=6, sigma=0.20, vmax=4, track_width = 5,\n",
    "    slider_ranges={\"sigma\": (0.1, 1)}, correct_origin = True)"
   ]
  },
  {
   "cell_type": "markdown",
   "id": "71ef1e13",
   "metadata": {},
   "source": [
    "### Overlay tracked edges with original image\n",
    "\n",
    "The edge coordinates can be plotted on top of the original kymograph. Load the kymotracker with the original kymograph below, and click 'load' to load the edge coordinates that you just tracked."
   ]
  },
  {
   "cell_type": "code",
   "execution_count": null,
   "id": "cc041bcb",
   "metadata": {},
   "outputs": [],
   "source": [
    "kw_blue_original = lk.KymoWidgetGreedy(cropped_kymo, \"blue\",vmax=5, aspect = 2)"
   ]
  },
  {
   "cell_type": "markdown",
   "id": "947ea720",
   "metadata": {},
   "source": [
    "## Further analysis.\n",
    "\n",
    "The tracked edges can now be used for further analysis, for example to determine the speed of the edge."
   ]
  },
  {
   "cell_type": "code",
   "execution_count": null,
   "id": "4f3ea59b",
   "metadata": {},
   "outputs": [],
   "source": [
    "speeds=np.array([])\n",
    "\n",
    "plt.figure(figsize=(15,10))\n",
    "i=1\n",
    "\n",
    "for line in kw_blue.tracks:\n",
    "    plt.subplot(5,6,i)\n",
    "    sec = line.seconds\n",
    "    pos = line.position*cropped_kymo.pixelsize_um[0] # Convert pixel position to um\n",
    "    lin_fit=np.polyfit(sec, pos, 1)\n",
    "    lin_func=np.poly1d(lin_fit)\n",
    "    plt.plot(sec,pos,label='data')\n",
    "    v=lin_fit[0]\n",
    "    plt.plot(sec,lin_func(sec),label=f'v={v:0.2f} um/s')\n",
    "    speeds=np.append(speeds,v)\n",
    "    i+=1\n",
    "    plt.legend()\n",
    "\n",
    "plt.tight_layout()\n",
    "plt.show()\n",
    "# -"
   ]
  },
  {
   "cell_type": "code",
   "execution_count": null,
   "id": "3940fab4",
   "metadata": {},
   "outputs": [],
   "source": [
    "plt.figure()\n",
    "plt.hist(speeds)\n",
    "plt.xlabel('Speed (um/s)')\n",
    "plt.show()"
   ]
  },
  {
   "cell_type": "code",
   "execution_count": null,
   "id": "4ba69458",
   "metadata": {},
   "outputs": [],
   "source": [
    "np.savetxt('spees_kymo_'+name +'.txt',speeds)"
   ]
  },
  {
   "cell_type": "code",
   "execution_count": null,
   "id": "7ea55219",
   "metadata": {},
   "outputs": [],
   "source": []
  }
 ],
 "metadata": {
  "kernelspec": {
   "display_name": "Python 3 (ipykernel)",
   "language": "python",
   "name": "python3"
  },
  "language_info": {
   "codemirror_mode": {
    "name": "ipython",
    "version": 3
   },
   "file_extension": ".py",
   "mimetype": "text/x-python",
   "name": "python",
   "nbconvert_exporter": "python",
   "pygments_lexer": "ipython3",
   "version": "3.9.17"
  }
 },
 "nbformat": 4,
 "nbformat_minor": 5
}
