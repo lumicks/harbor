{
 "cells": [
  {
   "cell_type": "code",
   "execution_count": null,
   "id": "b30f1dff",
   "metadata": {},
   "outputs": [],
   "source": [
    "import numpy as np\n",
    "import matplotlib.pyplot as plt\n",
    "\n",
    "import lumicks.pylake as lk\n",
    "\n",
    "%matplotlib inline"
   ]
  },
  {
   "cell_type": "markdown",
   "id": "193f0018",
   "metadata": {},
   "source": [
    "# Hairpin unfolding\n",
    "\n",
    "## Force-extension curve with hairpin unfolding event\n",
    "\n",
    "In this notebook we will analyze a force-extension curve of a construct with two DNA handles with a DNA hairpin in between. The hairpin unfolds as the force on the construct is increased. A similar approach can be used to analyze force-extension curves with protein unfolding events.\n",
    "\n",
    "First, we will compute the high frequency distance, also called [piezo distance](https://lumicks-pylake.readthedocs.io/en/stable/examples/hairpin_fitting/../../tutorial/piezotracking.html#piezo-tracking). Then, we will use the Worm-Like Chain (WLC) and Extensibly Freely Jointed Chain (EFJC) to extract the contour length of the unfolded hairpin.\n",
    "\n",
    "## Download the hairpin data\n",
    "\n",
    "The hairpin data are stored on zenodo.org. We can download the data directly from Zenodo using the function [`download_from_doi()`](https://lumicks-pylake.readthedocs.io/en/stable/examples/hairpin_fitting/../../_api/lumicks.pylake.download_from_doi.html#lumicks.pylake.download_from_doi). The data will be stored in the folder called `\"test_data\"`:"
   ]
  },
  {
   "cell_type": "code",
   "execution_count": null,
   "id": "851a0f8b",
   "metadata": {},
   "outputs": [],
   "source": [
    "filenames = lk.download_from_doi(\"10.5281/zenodo.12087894\", \"test_data\")"
   ]
  },
  {
   "cell_type": "markdown",
   "id": "ff2459f8",
   "metadata": {},
   "source": [
    "## Plot the fd curve\n",
    "\n",
    "Before starting the analysis on the high frequency data, let’s look at fd curve based on the low frequency force, and the low frequency distance:"
   ]
  },
  {
   "cell_type": "code",
   "execution_count": null,
   "id": "10a77425",
   "metadata": {},
   "outputs": [],
   "source": [
    "file = lk.File(\"test_data/FDCURV~3.H5\")\n",
    "_, fd = file.fdcurves.popitem()\n",
    "plt.figure()\n",
    "fd.plot_scatter()"
   ]
  },
  {
   "cell_type": "markdown",
   "id": "78cde477",
   "metadata": {},
   "source": [
    "The fd curve has an unfolding event around 9 pN. We will fit the data before and after the unfolding event to determine the contour length of the hairpin.\n",
    "\n",
    "First, we fit the video tracking to the mirror position data. The resulting fit can be used to compute the trap-to-trap distance from the (high-frequency) mirror 1 position data.\n",
    "\n",
    "## Mirror position-to-Distance Calibration\n",
    "\n",
    "First, select the data for the mirror-to-distance calibration.:"
   ]
  },
  {
   "cell_type": "code",
   "execution_count": null,
   "id": "59003ca5",
   "metadata": {},
   "outputs": [],
   "source": [
    "cal_data = lk.File(\"test_data/FDCURV~4.H5\")  # load data file with calibration\"\n",
    "plt.figure()\n",
    "cal_data[\"Distance\"][\"Distance 1\"].plot()\n",
    "plt.ylabel(r\"Distance ($\\mu$m)\")"
   ]
  },
  {
   "cell_type": "markdown",
   "id": "278ef8a9",
   "metadata": {},
   "source": [
    "As you can see, the data becomes nonlinear for distance smaller than 1.5 micron. The ideal range for calibration is at a similar distance as used for the fd curve, but not so small that the distance becomes nonlinear. Therefore, we will choose the interval 30-40 seconds for calibration:"
   ]
  },
  {
   "cell_type": "code",
   "execution_count": null,
   "id": "cc89f072",
   "metadata": {},
   "outputs": [],
   "source": [
    "time_min = \"30s\"\n",
    "time_max = \"40s\"\n",
    "distance_calibration = lk.DistanceCalibration(\n",
    "    cal_data[\"Trap position\"][\"1X\"][time_min:time_max], cal_data.distance1[time_min:time_max], degree=1\n",
    ")"
   ]
  },
  {
   "cell_type": "markdown",
   "id": "da289d82",
   "metadata": {},
   "source": [
    "In this example, we fit a polynomial function with `degree=1`, which is a linear function. Plot the result of the fit:"
   ]
  },
  {
   "cell_type": "code",
   "execution_count": null,
   "id": "47f2815f",
   "metadata": {},
   "outputs": [],
   "source": [
    "plt.figure()\n",
    "plt.title(\"Mirror 1 to Distance calibration\")\n",
    "distance_calibration.plot()"
   ]
  },
  {
   "cell_type": "markdown",
   "id": "fa0ed927",
   "metadata": {},
   "source": [
    "## Force Baseline Calibration\n",
    "\n",
    "Load and plot the baseline data:"
   ]
  },
  {
   "cell_type": "code",
   "execution_count": null,
   "id": "96e64ce1",
   "metadata": {},
   "outputs": [],
   "source": [
    "baseline_data = lk.File(\"test_data/FDCURV~1.H5\")\n",
    "\n",
    "baseline_1x_data = baseline_data[\"Force LF\"][\"Force 1x\"]\n",
    "baseline_2x_data = baseline_data[\"Force LF\"][\"Force 2x\"]\n",
    "distance = baseline_data[\"Distance\"][\"Distance 1\"]\n",
    "\n",
    "plt.figure()\n",
    "plt.plot(distance.data, baseline_1x_data.data, label = \"Baseline 1x\")\n",
    "plt.plot(distance.data, baseline_2x_data.data, label = \"Baseline 2x\")\n",
    "plt.legend()\n",
    "plt.ylabel(\"Force (pN)\")\n",
    "plt.xlabel(r\"Distance ($\\mu$m)\")"
   ]
  },
  {
   "cell_type": "markdown",
   "id": "051619cb",
   "metadata": {},
   "source": [
    "If the force was not reset before recording the baseline, it is best to subtract it before fitting. The force offset can be determined by measuring the force when the traps are far and no force is applied, which corresponds to the first seconds in the plot below:"
   ]
  },
  {
   "cell_type": "code",
   "execution_count": null,
   "id": "54f3e56b",
   "metadata": {},
   "outputs": [],
   "source": [
    "plt.figure()\n",
    "plt.subplot(2,1,1)\n",
    "baseline_1x_data.plot(label = \"Baseline 1x\")\n",
    "baseline_2x_data.plot(label = \"Baseline 2x\")\n",
    "plt.legend()\n",
    "plt.ylabel(\"Force (pN)\")\n",
    "plt.subplot(2,1,2)\n",
    "distance.plot()\n",
    "plt.ylabel(r\"Distance ($\\mu$m)\")\n",
    "plt.tight_layout()"
   ]
  },
  {
   "cell_type": "markdown",
   "id": "4e5e658d",
   "metadata": {},
   "source": [
    "Below, we average the force at large distance to estimate the distance offset:"
   ]
  },
  {
   "cell_type": "code",
   "execution_count": null,
   "id": "93e6a530",
   "metadata": {},
   "outputs": [],
   "source": [
    "tmin_offset = \"0s\"\n",
    "tmax_offset = \"1s\"\n",
    "\n",
    "baseline_1x_data_hf = baseline_data[\"Force HF\"][\"Force 1x\"]\n",
    "baseline_2x_data_hf = baseline_data[\"Force HF\"][\"Force 2x\"]\n",
    "\n",
    "f1_offset = np.mean(baseline_1x_data_hf[tmin_offset:tmax_offset].data)\n",
    "f2_offset = np.mean(baseline_2x_data_hf[tmin_offset:tmax_offset].data)\n",
    "\n",
    "baseline_1x_no_offset = baseline_1x_data_hf - f1_offset\n",
    "baseline_2x_no_offset = baseline_2x_data_hf - f2_offset"
   ]
  },
  {
   "cell_type": "markdown",
   "id": "8166e14f",
   "metadata": {},
   "source": [
    "Fit the baselines using a 7th degree polynomial function:"
   ]
  },
  {
   "cell_type": "code",
   "execution_count": null,
   "id": "1c008ed4",
   "metadata": {},
   "outputs": [],
   "source": [
    "baseline_1x = lk.ForceBaseLine.polynomial_baseline(\n",
    "baseline_data[\"Trap position\"][\"1X\"], baseline_1x_no_offset, degree=7, downsampling_factor=500\n",
    ")\n",
    "baseline_2x = lk.ForceBaseLine.polynomial_baseline(\n",
    "baseline_data[\"Trap position\"][\"1X\"], baseline_2x_no_offset, degree=7, downsampling_factor=500\n",
    ")"
   ]
  },
  {
   "cell_type": "markdown",
   "id": "9e5cb995",
   "metadata": {},
   "source": [
    "Fit the result of the fit:"
   ]
  },
  {
   "cell_type": "code",
   "execution_count": null,
   "id": "0f1b098e",
   "metadata": {},
   "outputs": [],
   "source": [
    "plt.figure()\n",
    "baseline_1x.plot(label=\"baseline f1x\")\n",
    "baseline_2x.plot(label=\"baseline f2x\")\n",
    "plt.ylabel(\"Force (pN)\")\n",
    "plt.legend()"
   ]
  },
  {
   "cell_type": "markdown",
   "id": "cb2c15e7",
   "metadata": {},
   "source": [
    "The quality of the fit can be visualized by plotting the residuals. When the `degree` of the fitted polynomial is too low, the residuals will be large and not flat.:"
   ]
  },
  {
   "cell_type": "code",
   "execution_count": null,
   "id": "bd878b62",
   "metadata": {},
   "outputs": [],
   "source": [
    "plt.figure()\n",
    "baseline_1x.plot_residual(label=\"baseline f1x\")\n",
    "baseline_2x.plot_residual(label=\"baseline f2x\")\n",
    "plt.legend(loc='lower right')\n",
    "plt.show()"
   ]
  },
  {
   "cell_type": "markdown",
   "id": "7a18ba8d",
   "metadata": {},
   "source": [
    "## Compute the piezo distance\n",
    "\n",
    "Now that we have determined the distance calibration and fitted the baseline, the piezo distance can be computed. The `signs` parameter indicates the sign of `Force 1x` and `Force 2x` respectively. By looking at the baselines, we know that `Force 1x` is negative and `Force 2x` positive:"
   ]
  },
  {
   "cell_type": "code",
   "execution_count": null,
   "id": "becfd39b",
   "metadata": {},
   "outputs": [],
   "source": [
    "piezo_calibration = lk.PiezoForceDistance(distance_calibration, baseline_1x, baseline_2x, signs=(-1,1))"
   ]
  },
  {
   "cell_type": "markdown",
   "id": "ed35e1d7",
   "metadata": {},
   "source": [
    "Choose an fd curve to compute the piezo distance for. If the force offset for the fd curve is different from the offset for the baseline, it can be [included in the model](https://lumicks-pylake.readthedocs.io/en/stable/examples/hairpin_fitting/../../tutorial/fdfitting.html#model-composition). For this experiment, the offset in the baseline is also present in the fd curve. Therefore, we subtract it here:"
   ]
  },
  {
   "cell_type": "code",
   "execution_count": null,
   "id": "10546298",
   "metadata": {},
   "outputs": [],
   "source": [
    "fd_data = lk.File(\"test_data/FDCURV~3.H5\")\n",
    "\n",
    "tether_length, corrected_force_1x, corrected_force_2x = piezo_calibration.force_distance(\n",
    "fd_data[\"Trap position\"][\"1X\"], fd_data.force1x - f1_offset, fd_data.force2x - f2_offset, downsampling_factor=500\n",
    ")\n",
    "force_data = corrected_force_2x"
   ]
  },
  {
   "cell_type": "markdown",
   "id": "d47ce447",
   "metadata": {},
   "source": [
    "Plot the result:"
   ]
  },
  {
   "cell_type": "code",
   "execution_count": null,
   "id": "8a70c428",
   "metadata": {},
   "outputs": [],
   "source": [
    "plt.figure()\n",
    "plt.scatter(tether_length.data, force_data.data, s=1, label = \"Piezo Distance\")\n",
    "plt.legend()\n",
    "plt.xlabel(r\"Distance ($\\mu$m)\")\n",
    "plt.ylabel(\"Force [pN]\")"
   ]
  },
  {
   "cell_type": "markdown",
   "id": "d5e15157",
   "metadata": {},
   "source": [
    "## Fit the data\n",
    "\n",
    "Next, we extract the contour length of the unfolded hairpin by fitting the data before and after the unfolding event.\n",
    "\n",
    "### Data Selection\n",
    "\n",
    "First, select data before and after the unfolding event:"
   ]
  },
  {
   "cell_type": "code",
   "execution_count": null,
   "id": "a0b5c447",
   "metadata": {},
   "outputs": [],
   "source": [
    "def extract_fd_range(force, distance, dist_min, dist_max):\n",
    "    \"\"\"Extracts forces and distances for a particular distance range\"\"\"\n",
    "    dist_data = distance.data\n",
    "    mask = (dist_data < dist_max) & (dist_data > dist_min)\n",
    "    return force.data[mask], dist_data[mask]\n",
    "\n",
    "# Extract folded data (1.45 to 1.67 um)\n",
    "force_back_folded, distance_back_folded = extract_fd_range(\n",
    "    force_data, tether_length, 1.45, 1.67\n",
    ")\n",
    "# Extract unfolded data (1.68 to 1.8 um)\n",
    "force_back_unfolded, distance_back_unfolded = extract_fd_range(\n",
    "    force_data, tether_length, 1.68, 1.8\n",
    ")"
   ]
  },
  {
   "cell_type": "markdown",
   "id": "48534173",
   "metadata": {},
   "source": [
    "Plot the selected data:"
   ]
  },
  {
   "cell_type": "code",
   "execution_count": null,
   "id": "116d7da7",
   "metadata": {},
   "outputs": [],
   "source": [
    "plt.figure()\n",
    "plt.scatter(distance_back_folded, force_back_folded,s=2,alpha=0.2,label=\"Selection folded\")\n",
    "plt.scatter(distance_back_unfolded, force_back_unfolded,s=2,alpha=0.2,label=\"Selection unfolded\")\n",
    "plt.legend()\n",
    "plt.ylabel(\"Force (pN)\")\n",
    "plt.xlabel(r\"Distance ($\\mu$m)\")"
   ]
  },
  {
   "cell_type": "markdown",
   "id": "0969b623",
   "metadata": {},
   "source": [
    "### Define the models\n",
    "\n",
    "For fitting the DNA handles with folded hairpin (before unfolding), the extensible Worm-Like Chain 1 is used to fit, which is valid up to 30 pN.:"
   ]
  },
  {
   "cell_type": "code",
   "execution_count": null,
   "id": "72ecc5ea",
   "metadata": {},
   "outputs": [],
   "source": [
    "dna_handles_force = lk.ewlc_odijk_force(\"dna_handles\")"
   ]
  },
  {
   "cell_type": "markdown",
   "id": "1f1adc15",
   "metadata": {},
   "source": [
    "The model for DNA and the unfolded hairpin is composed by summing the model for the DNA handles and the model for the hairpin with distance as the dependent parameter. For the unfolded hairpin, we choose the Extensible Freely Jointed Chain 2, which is a variation on the Freely Jointed Chain model including the stretch modulus, to account for stretching at high forces:"
   ]
  },
  {
   "cell_type": "code",
   "execution_count": null,
   "id": "58568c8b",
   "metadata": {},
   "outputs": [],
   "source": [
    "dna_handles_and_hairpin_distance = lk.ewlc_odijk_distance(\"dna_handles\") + lk.efjc_distance(\"dna_ss_hairpin\")"
   ]
  },
  {
   "cell_type": "markdown",
   "id": "eabbe3eb",
   "metadata": {},
   "source": [
    "Invert the model for DNA and hairpin such that force becomes the dependent parameter:"
   ]
  },
  {
   "cell_type": "code",
   "execution_count": null,
   "id": "5adce19d",
   "metadata": {},
   "outputs": [],
   "source": [
    "dna_handles_and_hairpin_force = dna_handles_and_hairpin_distance.invert(interpolate=True, independent_min=0, independent_max=90)"
   ]
  },
  {
   "cell_type": "markdown",
   "id": "e111f475",
   "metadata": {},
   "source": [
    "Add the models to the fit:"
   ]
  },
  {
   "cell_type": "code",
   "execution_count": null,
   "id": "7b46e45a",
   "metadata": {},
   "outputs": [],
   "source": [
    "fit = lk.FdFit(dna_handles_force, dna_handles_and_hairpin_force)"
   ]
  },
  {
   "cell_type": "markdown",
   "id": "9d64cfb4",
   "metadata": {},
   "source": [
    "Note that the model would look different for a protein unfolding experiment. A common model for an unfolded protein is the Worm-Like chain model, [`lk.wlc_marko_siggia_distance()`](https://lumicks-pylake.readthedocs.io/en/stable/examples/hairpin_fitting/../../_api/lumicks.pylake.wlc_marko_siggia_distance.html#lumicks.pylake.wlc_marko_siggia_distance).\n",
    "\n",
    "### Fit the data\n",
    "\n",
    "For fitting, we can either fit all the data at once by adding all the selected data to the fit. Another option is incremental fitting, where the DNA handles are fitted first. The fitted parameters for the DNA handles can then be used as an estimate for fitting the unfolding event. Below, we use incremental fitting.\n",
    "\n",
    "First, we add data for the DNA handles only:"
   ]
  },
  {
   "cell_type": "code",
   "execution_count": null,
   "id": "c9b47840",
   "metadata": {},
   "outputs": [],
   "source": [
    "fit[dna_handles_force].add_data(\"DNA handles\",force_back_folded,distance_back_folded)"
   ]
  },
  {
   "cell_type": "markdown",
   "id": "69952179",
   "metadata": {},
   "source": [
    "The DNA handles have a contour length of about 1.7 micron, a typical value for the persistence length of double-stranded DNA is 50 nm and a typical value for the stretch modulus is 1500 pN. Therefore, we set the initial guess of the fit as follows:"
   ]
  },
  {
   "cell_type": "code",
   "execution_count": null,
   "id": "e827c988",
   "metadata": {},
   "outputs": [],
   "source": [
    "fit[\"dna_handles/Lp\"].value = 50  # in nanometers\n",
    "fit[\"dna_handles/Lp\"].lower_bound = 30\n",
    "fit[\"dna_handles/Lp\"].upper_bound = 70\n",
    "fit[\"dna_handles/Lc\"].value = 1.7  # in microns\n",
    "fit[\"dna_handles/St\"].value = 1500  # in pN"
   ]
  },
  {
   "cell_type": "markdown",
   "id": "281b6d00",
   "metadata": {},
   "source": [
    "Fit the data before unfolding:"
   ]
  },
  {
   "cell_type": "code",
   "execution_count": null,
   "id": "a82c7d73",
   "metadata": {},
   "outputs": [],
   "source": [
    "fit.fit()"
   ]
  },
  {
   "cell_type": "markdown",
   "id": "44454d14",
   "metadata": {},
   "source": [
    "Plot the result of the fit:"
   ]
  },
  {
   "cell_type": "code",
   "execution_count": null,
   "id": "9e6e8f26",
   "metadata": {},
   "outputs": [],
   "source": [
    "plt.figure()\n",
    "fit[dna_handles_force].plot()\n",
    "plt.xlabel(r\"Distance ($\\mu$m)\")\n",
    "plt.ylabel(\"Force (pN)\")"
   ]
  },
  {
   "cell_type": "markdown",
   "id": "28ad35ba",
   "metadata": {},
   "source": [
    "Now, add the data after the unfolding event:"
   ]
  },
  {
   "cell_type": "code",
   "execution_count": null,
   "id": "f0502a9d",
   "metadata": {},
   "outputs": [],
   "source": [
    "fit[dna_handles_and_hairpin_force].add_data(\"DNA handles + unfolded hairpin\",force_back_unfolded,distance_back_unfolded)"
   ]
  },
  {
   "cell_type": "markdown",
   "id": "0d2c1528",
   "metadata": {},
   "source": [
    "This time all the selected data are fitted and the values for the DNA handles from the first part of the fit are used as initial guess. Sometimes, when fitting many unfolding events, the fit does not converge well when all data are fitted at once. If that happens, you can fix parameters from the first fit at this stage, for example by setting `fit[\"dna_handles/Lc\"].fixed = True`. For this particular data set, the fit converges without fixing parameters. We next set the initial guesses for the unfolded hairpin:"
   ]
  },
  {
   "cell_type": "code",
   "execution_count": null,
   "id": "1bd0a0fc",
   "metadata": {},
   "outputs": [],
   "source": [
    "fit[\"dna_ss_hairpin/Lp\"].lower_bound = 0.5  # in nanometers\n",
    "fit[\"dna_ss_hairpin/Lp\"].value = 1.5\n",
    "fit[\"dna_ss_hairpin/Lp\"].upper_bound = 2.0\n",
    "\n",
    "fit[\"dna_ss_hairpin/Lc\"].value = 0.02  # in microns\n",
    "fit[\"dna_ss_hairpin/Lc\"].lower_bound = 0.001\n",
    "\n",
    "fit[\"dna_ss_hairpin/St\"].value = 500  # in pN\n",
    "fit[\"dna_ss_hairpin/St\"].upper_bound = 2000"
   ]
  },
  {
   "cell_type": "markdown",
   "id": "ef0ffd40",
   "metadata": {},
   "source": [
    "Fit all the data and plot the result:"
   ]
  },
  {
   "cell_type": "code",
   "execution_count": null,
   "id": "d3445220",
   "metadata": {},
   "outputs": [],
   "source": [
    "fit.fit()\n",
    "print(fit.params)"
   ]
  },
  {
   "cell_type": "markdown",
   "id": "a399ee9d",
   "metadata": {},
   "source": [
    "As can be seen from the table, most fitted parameters converge and have values in the expected range. However, the stretch modulus of the hairpin hits the upper bound of 2000 pN, indicating that this parameter did not converge. When observing that a parameter does not converge, it is important to go back to the fit and see how it can be improved. In this case, increasing the upper bound for `dna_ss_hairpin/St` does not visually change the fit and does not result in convergence; the stretch modulus of the DNA handles and the hairpin cannot be optimized at the same time. A solution would be to use the freely jointed chain, instead of the extensible freely jointed chain to fit the unfolded hairpin, which is equivalent to setting a very large value for `dna_ss_hairpin/St`:"
   ]
  },
  {
   "cell_type": "code",
   "execution_count": null,
   "id": "2c8ab69a",
   "metadata": {},
   "outputs": [],
   "source": [
    "fit[\"dna_ss_hairpin/St\"].upper_bound = 100000  # in pN\n",
    "fit[\"dna_ss_hairpin/St\"].value = 100000\n",
    "fit[\"dna_ss_hairpin/St\"].fixed = True\n",
    "fit.fit()"
   ]
  },
  {
   "cell_type": "markdown",
   "id": "1b9c66ed",
   "metadata": {},
   "source": [
    "Plot the result:"
   ]
  },
  {
   "cell_type": "code",
   "execution_count": null,
   "id": "896bf72b",
   "metadata": {},
   "outputs": [],
   "source": [
    "plt.figure()\n",
    "fit[dna_handles_force].plot()\n",
    "fit[dna_handles_and_hairpin_force].plot()\n",
    "plt.xlabel(r\"Distance ($\\mu$m)\")\n",
    "plt.ylabel(\"Force (pN)\")\n",
    "Lc_hairpin = fit[\"dna_ss_hairpin/Lc\"].value*1000\n",
    "plt.title(f\"Fitted hairpin length is {Lc_hairpin:0.1f} nm\")"
   ]
  },
  {
   "cell_type": "markdown",
   "id": "cb52a97a",
   "metadata": {},
   "source": [
    "The expected contour length for the hairpin was ~17 nm and the fitted length is 21.7 nm.\n",
    "\n",
    "### Check and improve fit quality\n",
    "\n",
    "The next step is to study the confidence intervals and quality of the fit, for example using the [likelihood profile](https://lumicks-pylake.readthedocs.io/en/stable/examples/hairpin_fitting/../../tutorial/fdfitting.html#ple-confidence-intervals). The fit can be improved further by fitting multiple data sets at once. For more information on this procedure, see the section on [global fitting](https://lumicks-pylake.readthedocs.io/en/stable/examples/hairpin_fitting/../../tutorial/fdfitting.html#global-fit).\n",
    "\n",
    "### Unequal bead sizes\n",
    "\n",
    "In this example, the two bead sizes are equal. Since this is the case, we used a single template to track the bead positions. This means that even if a template is not centered perfectly, any offset negates, because both templates are offset in an identical manner. When using different beads however, one uses two different templates, which means that an offset from one template is not automatically cancelled by the other template. As a result, we can end up with an offset in the bead-to-bead distance due to a slight off-centering of one or both of the templates. When working with unequal bead sizes, an extra distance offset can be [included in the model](https://lumicks-pylake.readthedocs.io/en/stable/examples/hairpin_fitting/../../tutorial/fdfitting.html#model-composition) to account for not perfectly centered templates.\n",
    "\n",
    "When fitting, the contour length and distance offset are strongly correlated and can often not be optimized at the same time, as explained [here](https://lumicks-pylake.readthedocs.io/en/stable/examples/hairpin_fitting/../../tutorial/fdfitting.html#ple-confidence-intervals). A common solution is to fix the known contour length of the DNA handles during fitting.\n",
    "\n",
    "1* Odijk, Stiff Chains and Filaments under Tension, Macromolecules 28, 7016-7018 (1995).\n",
    "  \n",
    "2* * Smith, Y. Cui, C. Bustamante, Overstretching B-DNA: The Elastic Response of Individual Double-Stranded and Single-Stranded DNA Molecules, Science 271, 795-799 (1996)."
   ]
  }
 ],
 "metadata": {
  "language_info": {
   "name": "python"
  }
 },
 "nbformat": 4,
 "nbformat_minor": 5
}
