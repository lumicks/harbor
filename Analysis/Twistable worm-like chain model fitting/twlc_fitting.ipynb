{
 "cells": [
  {
   "cell_type": "code",
   "execution_count": null,
   "id": "dd989d7d",
   "metadata": {},
   "outputs": [],
   "source": [
    "import numpy as np\n",
    "import matplotlib.pyplot as plt\n",
    "\n",
    "import lumicks.pylake as lk\n",
    "\n",
    "%matplotlib inline"
   ]
  },
  {
   "cell_type": "markdown",
   "id": "a81ef1a1",
   "metadata": {},
   "source": [
    "# Twistable Worm-Like-Chain Fitting\n",
    "\n",
    "In this notebook, we analyze force extension data of DNA over its full range of structural transitions under mechanical stress (0 - 60 pN). The twistable worm-like chain model (tWLC) takes twisting deformations on the DNA double helix into account. Here we will use this model to describe the mechanical response of DNA at such high forces.\n",
    "\n",
    "Download the files with [`download_from_doi()`](https://lumicks-pylake.readthedocs.io/en/stable/examples/twlc_fitting/../../_api/lumicks.pylake.download_from_doi.html#lumicks.pylake.download_from_doi):"
   ]
  },
  {
   "cell_type": "code",
   "execution_count": null,
   "id": "df1a3356",
   "metadata": {},
   "outputs": [],
   "source": [
    "lk.download_from_doi(\"10.5281/zenodo.12668419\", \"data\")"
   ]
  },
  {
   "cell_type": "markdown",
   "id": "2beaf84e",
   "metadata": {},
   "source": [
    "Let’s load and plot the data first:"
   ]
  },
  {
   "cell_type": "code",
   "execution_count": null,
   "id": "7ca034c0",
   "metadata": {},
   "outputs": [],
   "source": [
    "file = lk.File(\"data/twlc_data.h5\")\n",
    "fd_curve = file.fdcurves[\"FD_1_control_forw\"]\n",
    "fd_curve.plot_scatter()"
   ]
  },
  {
   "cell_type": "markdown",
   "id": "de388c6a",
   "metadata": {},
   "source": [
    "## Set up a basic model first\n",
    "\n",
    "We clearly see that the force starts levelling out at high forces in the data. We’ll need something rather complex in order to capture this behavior. The twistable worm-like chain (tWLC) model can describe the untwisting behavior of DNA that becomes apparent in the 30-60 pN force range. However, the model’s complexity also incurs some challenges.\n",
    "\n",
    "Parameter estimation typically begins from an initial guess, and if this initial guess is bad, it can get stuck at an estimated set of parameters that are suboptimal, a so-called local optimum. One way to mitigate this, is to start with better initial values.\n",
    "\n",
    "In this notebook, we fit the region before the force begins levelling out (i.e. 30 pN) first with a regular worm-like chain model and then use those estimates as initial guesses to fit the tWLC model.\n",
    "\n",
    "Depending on your experiments, small offsets can be present in the data. For instance, the bead diameter may vary slightly from experiment to experiment, or the force may have experienced some drift. We incorporate an offset in both distance and force to compensate for small offsets that may exist in the data. Let’s set up the Odijk worm-like chain model using the function [`ewlc_odijk_force()`](https://lumicks-pylake.readthedocs.io/en/stable/examples/twlc_fitting/../../_api/lumicks.pylake.ewlc_odijk_force.html#lumicks.pylake.ewlc_odijk_force) and create the fit:"
   ]
  },
  {
   "cell_type": "code",
   "execution_count": null,
   "id": "c67ef55f",
   "metadata": {},
   "outputs": [],
   "source": [
    "m_odijk = lk.ewlc_odijk_force(\"DNA\").subtract_independent_offset() + lk.force_offset(\"DNA\")\n",
    "fit_odijk = lk.FdFit(m_odijk)"
   ]
  },
  {
   "cell_type": "markdown",
   "id": "6203e68a",
   "metadata": {},
   "source": [
    "Considering that this model only describes the force-extension behaviour at low forces (0.1 - 30 pN), we have to extract the data that is relevant to us. We can obtain this data from the force-distance curve as follows:"
   ]
  },
  {
   "cell_type": "code",
   "execution_count": null,
   "id": "1b240a09",
   "metadata": {},
   "outputs": [],
   "source": [
    "force = fd_curve.f.data\n",
    "distance = fd_curve.d.data"
   ]
  },
  {
   "cell_type": "markdown",
   "id": "74518e99",
   "metadata": {},
   "source": [
    "We only wish to use the forces below 30, so we filter the data according to this requirement:"
   ]
  },
  {
   "cell_type": "code",
   "execution_count": null,
   "id": "57ec5923",
   "metadata": {},
   "outputs": [],
   "source": [
    "mask = force < 30\n",
    "distance = distance[mask]\n",
    "force = force[mask]"
   ]
  },
  {
   "cell_type": "markdown",
   "id": "95c00613",
   "metadata": {},
   "source": [
    "Now we are ready to add this data to the fit using [`add_data()`](https://lumicks-pylake.readthedocs.io/en/stable/examples/twlc_fitting/../../_api/lumicks.pylake.FdFit.html#lumicks.pylake.FdFit.add_data), but first, we must constrain the distance offset to help the fitting, as this provides a lot of additional freedom in the model:"
   ]
  },
  {
   "cell_type": "code",
   "execution_count": null,
   "id": "65f0bcc0",
   "metadata": {},
   "outputs": [],
   "source": [
    "fit_odijk.add_data(\"Inverted Odijk\", force, distance)\n",
    "fit_odijk[\"DNA/d_offset\"].upper_bound = 0.01\n",
    "fit_odijk[\"DNA/d_offset\"].lower_bound = -0.01"
   ]
  },
  {
   "cell_type": "markdown",
   "id": "162a7d72",
   "metadata": {},
   "source": [
    "And [`fit()`](https://lumicks-pylake.readthedocs.io/en/stable/examples/twlc_fitting/../../_api/lumicks.pylake.FdFit.html#lumicks.pylake.FdFit.fit) the model:"
   ]
  },
  {
   "cell_type": "code",
   "execution_count": null,
   "id": "39425e51",
   "metadata": {},
   "outputs": [],
   "source": [
    "fit_odijk.fit()"
   ]
  },
  {
   "cell_type": "markdown",
   "id": "a5761da8",
   "metadata": {},
   "source": [
    "## Set up the twistable worm like chain model\n",
    "\n",
    "By default, the [`twlc_distance()`](https://lumicks-pylake.readthedocs.io/en/stable/examples/twlc_fitting/../../_api/lumicks.pylake.twlc_distance.html#lumicks.pylake.twlc_distance) model provided with pylake outputs the distance as a function of force. However, we typically want to fit force as a function of distance. To achieve this, we can invert the model using its [`invert()`](https://lumicks-pylake.readthedocs.io/en/stable/examples/twlc_fitting/../../_api/lumicks.pylake.fitting.model.Model.html#lumicks.pylake.fitting.model.Model.invert) function at the cost of slowing down the fit. Alternatively, we have a faster way of achieving this in pylake, by using the dedicated [`twlc_force()`](https://lumicks-pylake.readthedocs.io/en/stable/examples/twlc_fitting/../../_api/lumicks.pylake.twlc_force.html#lumicks.pylake.twlc_force) model:"
   ]
  },
  {
   "cell_type": "code",
   "execution_count": null,
   "id": "4af759d0",
   "metadata": {},
   "outputs": [],
   "source": [
    "m_dna = lk.twlc_force(\"DNA\").subtract_independent_offset() + lk.force_offset(\"DNA\")\n",
    "fit_twlc = lk.FdFit(m_dna)"
   ]
  },
  {
   "cell_type": "markdown",
   "id": "82f1997c",
   "metadata": {},
   "source": [
    "## Load the full data into the model\n",
    "\n",
    "In the plot showing the data, we could see that there is a small transition event at the end of the Fd curve. The model will not be able to capture this behaviour and therefore it is best to remove this section prior to fitting:"
   ]
  },
  {
   "cell_type": "code",
   "execution_count": null,
   "id": "152c4417",
   "metadata": {},
   "outputs": [],
   "source": [
    "force = fd_curve.f.data\n",
    "distance = fd_curve.d.data\n",
    "mask = distance < 2.88\n",
    "distance = distance[mask]\n",
    "force = force[mask]"
   ]
  },
  {
   "cell_type": "markdown",
   "id": "8c07ead6",
   "metadata": {},
   "source": [
    "Now we can load the data into the model:"
   ]
  },
  {
   "cell_type": "code",
   "execution_count": null,
   "id": "f095b713",
   "metadata": {},
   "outputs": [],
   "source": [
    "fit_twlc.add_data(\"Twistable WLC\", force, distance)"
   ]
  },
  {
   "cell_type": "markdown",
   "id": "37d77d2b",
   "metadata": {},
   "source": [
    "We could add more datasets in a similar manner, but in this example, we only fit a single model. Let’s load the parameters from our previous fit to use them as initial guesses for this one. We also fix the twist rigidity and critical force to values from literature (analogous to Broekmans et al. “DNA twist stability changes with magnesium (2+) concentration.” Physical Review Letters 116, 258102 (2016)):"
   ]
  },
  {
   "cell_type": "code",
   "execution_count": null,
   "id": "48fb5bbb",
   "metadata": {},
   "outputs": [],
   "source": [
    "fit_twlc.update_params(fit_odijk)\n",
    "\n",
    "# Fix twist rigidity and critical force to literature values.\n",
    "fit_twlc[\"DNA/C\"].value = 440\n",
    "fit_twlc[\"DNA/C\"].fixed = True\n",
    "fit_twlc[\"DNA/Fc\"].value = 30.6\n",
    "fit_twlc[\"DNA/Fc\"].fixed = True"
   ]
  },
  {
   "cell_type": "markdown",
   "id": "4068a721",
   "metadata": {},
   "source": [
    "## Fit the model\n",
    "\n",
    "Considering that the tWLC model is more difficult to evaluate, this may take a while. This is also why we choose to enable verbose output:"
   ]
  },
  {
   "cell_type": "code",
   "execution_count": null,
   "id": "3ccc72d6",
   "metadata": {},
   "outputs": [],
   "source": [
    "fit_twlc.fit(verbose=2)\n",
    "plt.show()"
   ]
  },
  {
   "cell_type": "markdown",
   "id": "3f2d2bc1",
   "metadata": {},
   "source": [
    "## Plotting the results\n",
    "\n",
    "After fitting we can plot our results and print our parameters by invoking [`plot()`](https://lumicks-pylake.readthedocs.io/en/stable/examples/twlc_fitting/../../_api/lumicks.pylake.FdFit.html#lumicks.pylake.FdFit.plot) and [`params`](https://lumicks-pylake.readthedocs.io/en/stable/examples/twlc_fitting/../../_api/lumicks.pylake.FdFit.html#lumicks.pylake.FdFit.params) respectively:"
   ]
  },
  {
   "cell_type": "code",
   "execution_count": null,
   "id": "664b5d08",
   "metadata": {},
   "outputs": [],
   "source": [
    "fit_twlc.plot()\n",
    "plt.xlabel(\"Distance [$\\\\mu$m]\")\n",
    "plt.ylabel(\"Force [pN]\");"
   ]
  },
  {
   "cell_type": "markdown",
   "id": "3563c1f7",
   "metadata": {},
   "source": [
    "We can also show the parameters:"
   ]
  },
  {
   "cell_type": "code",
   "execution_count": null,
   "id": "a2ff0b05",
   "metadata": {},
   "outputs": [],
   "source": [
    "fit_twlc.params"
   ]
  },
  {
   "cell_type": "markdown",
   "id": "2046e2ac",
   "metadata": {},
   "source": [
    "These seem to agree well with what’s typically found for dsDNA."
   ]
  }
 ],
 "metadata": {
  "language_info": {
   "name": "python"
  }
 },
 "nbformat": 4,
 "nbformat_minor": 5
}
