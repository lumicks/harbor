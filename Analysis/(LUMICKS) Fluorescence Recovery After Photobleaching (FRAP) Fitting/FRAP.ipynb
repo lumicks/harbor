{
 "cells": [
  {
   "cell_type": "code",
   "execution_count": null,
   "metadata": {},
   "outputs": [],
   "source": [
    "# Pylake package that LUMICKS provides\n",
    "import lumicks.pylake as pylake\n",
    "\n",
    "# Python module for more elaborate mathematical operations\n",
    "import numpy as np\n",
    "\n",
    "# Plotting module\n",
    "import matplotlib.pyplot as plt\n",
    "\n",
    "# Module we use for looking for files in a folder\n",
    "import glob\n",
    "\n",
    "# Fitting module\n",
    "import lmfit\n",
    "%matplotlib inline"
   ]
  },
  {
   "cell_type": "markdown",
   "metadata": {},
   "source": [
    "# Fluorescence Recovery After Photobleaching (FRAP)\n",
    "This notebook will demonstrate how to do some basic curve fitting to FRAP data acquired with bluelake.\n",
    "\n",
    "In a typical FRAP experiment a selected region will be photobleached by an intense laser pulse. After\n",
    "bleaching, the fluorescence will typically recover. The recovery of this intensity contains information\n",
    "on the influx of molecules that have not been photobleached.\n",
    "\n",
    "In this experiment, we are dealing with protein droplets. We subsequently photobleach these droplets by\n",
    "using an intense laser pulse. After this initial bleaching phase, the laser is returned to a low power\n",
    "and we can observe the photobleached proteins in the droplets exchange with the fluorescent proteins\n",
    "outside of the droplet.\n",
    "\n",
    "First step will be to look at which h5 files we have in the folder."
   ]
  },
  {
   "cell_type": "code",
   "execution_count": null,
   "metadata": {},
   "outputs": [],
   "source": [
    "# Get list of all the Marker .h5 files in the folder\n",
    "files = glob.glob('*.h5')\n",
    "print(\"Found {} files in folder\".format(len(files)))\n",
    "\n",
    "for file in files:\n",
    "    print('\\''+ file + '\\',')"
   ]
  },
  {
   "cell_type": "markdown",
   "metadata": {},
   "source": [
    "# Loading Bluelake HDF5 data\n",
    "\n",
    "To load the data corresponding to this experiment, we call the filename with `pylake.File`. This will open the file for us,\n",
    "and allow us to interact with its contents."
   ]
  },
  {
   "cell_type": "code",
   "execution_count": null,
   "metadata": {},
   "outputs": [],
   "source": [
    "# We want to use the first file\n",
    "file_index = 0\n",
    "\n",
    "# Load in the file\n",
    "file = pylake.File(files[file_index])"
   ]
  },
  {
   "cell_type": "markdown",
   "metadata": {},
   "source": [
    "# Obtain the Green fluorescence channel and downsample the data to 100 Hz.\n",
    "\n",
    "Bluelake typically acquires data at very high frequencies. While for some applications this is crucial, in our case, we could perform our analysis quicker if we were to integrate photons over a larger time frame. Therefore, we wish to downsample the raw photon counts to a lower sample rate.\n",
    "\n",
    "Let's grab the green fluorescence channel and downsample the data to 100 Hz. To do this, we can use the\n",
    "information stored in the field `sample_rate` (to get the current sample rate) in conjunction with the\n",
    "function `downsampled_by` which can help us downsample the data. Considering that these are photon counts,\n",
    "we would like to sum them over the new time window when downsampling instead of averaging (which is the default downsampling method). Hence, for the reduce function\n",
    "we provide `np.sum` to indicate that the samples have to be summed over."
   ]
  },
  {
   "cell_type": "code",
   "execution_count": null,
   "metadata": {},
   "outputs": [],
   "source": [
    "green_channel = file['Photon count']['Green']\n",
    "desired_sample_rate = 100\n",
    "downsampled = green_channel.downsampled_by(int(green_channel.sample_rate / desired_sample_rate), reduce=np.sum)"
   ]
  },
  {
   "cell_type": "markdown",
   "metadata": {},
   "source": [
    "Let's plot the data by calling `plot` on the downsampled channel data:"
   ]
  },
  {
   "cell_type": "code",
   "execution_count": null,
   "metadata": {},
   "outputs": [],
   "source": [
    "# Plot the full time trace\n",
    "plt.figure(figsize=(20,5))\n",
    "downsampled.plot()\n",
    "plt.axvline((4.3), color='red')\n",
    "plt.axvline((20.7), color='black')\n",
    "plt.ylabel('Green Channel Photon Counts')\n",
    "plt.legend(['Photon Counts', 'Turn confocal laser to high power','Turn confocal laser down to lower power'])"
   ]
  },
  {
   "cell_type": "markdown",
   "metadata": {},
   "source": [
    "# Plot the recovery curve\n",
    "A clear spike in photon counts can be observed after increasing the laser power. The laser was kept on for 15 seconds,\n",
    "after which it was turned back to low power to observe the recovery curve.\n",
    "\n",
    "Let's slice the region between 20.8 and 80 seconds from our dataset and plot it."
   ]
  },
  {
   "cell_type": "code",
   "execution_count": null,
   "metadata": {},
   "outputs": [],
   "source": [
    "# Plot the region of interest\n",
    "plt.figure(figsize=(20,5))\n",
    "green_counts = downsampled['20.8s':'80s']\n",
    "green_counts.plot()\n",
    "plt.ylabel('Green Channel Photon Counts')"
   ]
  },
  {
   "cell_type": "markdown",
   "metadata": {},
   "source": [
    "# Fit the recovery curve\n",
    "We would like to know how quickly the fluorescence recovers and to get an indication of the time scale at which this happens, we can fit a simple mono-exponential model to this recovery:\n",
    "\n",
    "$G = G_0 + \\delta G \\left(1-e^{-t/\\tau}\\right)$\n",
    "\n",
    "Here $G_0$ refers to the fluorescence level immediately after bleaching, and $\\delta G$ refers to the total fluorescence recovery. We use the Python module `lmfit` to make this easier."
   ]
  },
  {
   "cell_type": "code",
   "execution_count": null,
   "metadata": {},
   "outputs": [],
   "source": [
    "# Define function that we want to fit\n",
    "def frap(t, tau, dG, G_0):\n",
    "    return dG * (1 - np.exp(-t / tau) ) + G_0\n",
    "\n",
    "# Get time traces in seconds\n",
    "time = green_counts.timestamps\n",
    "time = (time - time[0]) * 1e-9\n",
    "raw_data = green_counts.data\n",
    "\n",
    "# Here we fit the data to the defined model\n",
    "model = lmfit.Model(frap)\n",
    "params = model.make_params(tau=1, dG=np.max(raw_data)-np.min(raw_data), G_0=np.min(raw_data))\n",
    "fitres = model.fit(raw_data, t=time, params=params, method='least_squares')\n",
    "\n",
    "# output the result of the fit\n",
    "fitres"
   ]
  },
  {
   "cell_type": "code",
   "execution_count": null,
   "metadata": {},
   "outputs": [],
   "source": [
    "plt.figure(figsize = (9,5))\n",
    "green_counts.plot()\n",
    "plt.plot(time, fitres.best_fit)\n",
    "plt.ylabel('Green Channel Photon Count')\n",
    "plt.xlabel('Time (s)')\n",
    "\n",
    "plt.title(fr'$G(t) = G_0 + \\delta G (1-e^{{-t/\\tau}})$, with tau = {fitres.params[\"tau\"].value}');"
   ]
  }
 ],
 "metadata": {
  "kernelspec": {
   "display_name": "Python 3",
   "language": "python",
   "name": "python3"
  },
  "language_info": {
   "codemirror_mode": {
    "name": "ipython",
    "version": 3
   },
   "file_extension": ".py",
   "mimetype": "text/x-python",
   "name": "python",
   "nbconvert_exporter": "python",
   "pygments_lexer": "ipython3",
   "version": "3.7.4"
  }
 },
 "nbformat": 4,
 "nbformat_minor": 4
}
