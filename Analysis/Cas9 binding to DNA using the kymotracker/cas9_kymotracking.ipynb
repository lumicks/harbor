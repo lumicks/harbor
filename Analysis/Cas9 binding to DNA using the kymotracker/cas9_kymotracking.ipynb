{
 "cells": [
  {
   "cell_type": "code",
   "execution_count": null,
   "id": "121ea126",
   "metadata": {},
   "outputs": [],
   "source": [
    "import numpy as np\n",
    "import matplotlib.pyplot as plt\n",
    "\n",
    "import lumicks.pylake as lk\n",
    "\n",
    "%matplotlib inline"
   ]
  },
  {
   "cell_type": "markdown",
   "id": "a79e65b2",
   "metadata": {},
   "source": [
    "## Analyzing Cas9 binding to DNA\n",
    "\n",
    "In this notebook we will analyze some measurements of Cas9 activity obtained while stretching the DNA tether at different forces.\n",
    "\n",
    "Choosing an interactive backend allows us to interact with the plots. Note that depending on whether you are using Jupyter notebook or Jupyter lab, you should be using a different interactive backend. For Jupyter lab that means also installing [ipympl](None) as an extra dependency. Let’s begin by importing the required Python modules and choosing an interactive backend for `matplotlib`:"
   ]
  },
  {
   "cell_type": "code",
   "execution_count": null,
   "id": "13d6fbf5",
   "metadata": {},
   "outputs": [],
   "source": [
    "import matplotlib.pyplot as plt\n",
    "import numpy as np\n",
    "\n",
    "# Use widget if you're using Jupyter lab or notebook\n",
    "%matplotlib widget\n",
    "\n",
    "# Use notebook if you're in nbclassic\n",
    "# %matplotlib notebook"
   ]
  },
  {
   "cell_type": "markdown",
   "id": "2b798339",
   "metadata": {},
   "source": [
    "## Download the kymograph data\n",
    "\n",
    "The kymograph data is stored on Zenodo, a general-purpose open-access repository developed under the European OpenAIRE program and operated by CERN. Zenodo allows researchers to deposit data sets, research software, reports, and any other research related digital artifacts and allows them to be referenced by a Digital Object Identifier (DOI). We can download the kymograph we need directly from Zenodo using the function [`download_from_doi()`](https://lumicks-pylake.readthedocs.io/en/stable/examples/cas9_kymotracking/../../_api/lumicks.pylake.download_from_doi.html#lumicks.pylake.download_from_doi). Since we don’t want it in our working folder, we’ll put it in a folder called `\"test_data\"`:"
   ]
  },
  {
   "cell_type": "code",
   "execution_count": null,
   "id": "933bca0c",
   "metadata": {},
   "outputs": [],
   "source": [
    "filenames = lk.download_from_doi(\"10.5281/zenodo.4247279\", \"test_data\")"
   ]
  },
  {
   "cell_type": "markdown",
   "id": "dda9add9",
   "metadata": {},
   "source": [
    "## Plotting the kymograph\n",
    "\n",
    "Let’s load our Bluelake data and have a look at what the kymograph looks like. We can easily grab the kymo by calling `popitem()` on the list of kymos, which returns the first kymograph:"
   ]
  },
  {
   "cell_type": "code",
   "execution_count": null,
   "id": "db0f24de",
   "metadata": {},
   "outputs": [],
   "source": [
    "file = lk.File(filenames[0])\n",
    "_, kymo = file.kymos.popitem()"
   ]
  },
  {
   "cell_type": "markdown",
   "id": "09f2aecc",
   "metadata": {},
   "source": [
    "In this experiment, force was measured alongside the kymograph. Let’s plot them together to get a feel for what the data looks like:"
   ]
  },
  {
   "cell_type": "code",
   "execution_count": null,
   "id": "5a9a435d",
   "metadata": {},
   "outputs": [],
   "source": [
    "plt.figure(figsize=(7, 4))\n",
    "\n",
    "# Plot the kymograph\n",
    "ax1 = plt.subplot(2, 1, 1)\n",
    "\n",
    "# We use aspect=\"auto\" because otherwise the kymograph would be very long and thin\n",
    "kymo.plot(\"green\", adjustment=lk.ColorAdjustment(0, 4), aspect=\"auto\")\n",
    "\n",
    "# Plot the force\n",
    "ax2 = plt.subplot(2, 1, 2, sharex = ax1)\n",
    "plt.xlim(ax1.get_xlim())\n",
    "file[\"Force LF\"][\"Force 1x\"].plot()\n",
    "plt.tight_layout()\n",
    "\n",
    "plt.show()"
   ]
  },
  {
   "cell_type": "markdown",
   "id": "75e021e1",
   "metadata": {},
   "source": [
    "Note how color adjustment is specified for the kymograph. Any photon count outside the range provided to [`ColorAdjustment`](https://lumicks-pylake.readthedocs.io/en/stable/examples/cas9_kymotracking/../../_api/lumicks.pylake.ColorAdjustment.html#lumicks.pylake.ColorAdjustment) will be clipped to the nearest color.\n",
    "\n",
    "What we can observe in this data is that as more force is applied, we get an increased binding activity. Let’s see if we can put the kymotracker to some good use and quantify these.\n",
    "\n",
    "## Computing the background\n",
    "\n",
    "First, we select a small region without tracks to determine the background signal:"
   ]
  },
  {
   "cell_type": "code",
   "execution_count": null,
   "id": "3cf424b9",
   "metadata": {},
   "outputs": [],
   "source": [
    "background = kymo[\"100s\":\"200s\"].crop_by_distance(28, 31)\n",
    "green_background_per_pixel = np.mean(background.get_image(\"green\"))"
   ]
  },
  {
   "cell_type": "markdown",
   "id": "37227bd6",
   "metadata": {},
   "source": [
    "## Downsampling the kymograph\n",
    "\n",
    "To make it a bit easier to tweak the algorithm parameters, we will make use of a notebook widget. While we could work on the full time resolution data, we can make things a little easier for the kymotracking algorithm by downsampling the data a little bit. We crop the beads out of the kymograph and downsample the data by a factor of `2`:"
   ]
  },
  {
   "cell_type": "code",
   "execution_count": null,
   "id": "3c6b7690",
   "metadata": {},
   "outputs": [],
   "source": [
    "kymo_ds = kymo.downsampled_by(2).crop_beads(4.89, algorithm=\"template\")"
   ]
  },
  {
   "cell_type": "markdown",
   "id": "2dd9b016",
   "metadata": {},
   "source": [
    "## Performing the kymotracking\n",
    "\n",
    "Now that we’ve loaded some data, we can begin tracking lines on it. For this, we open the widget. This will provide us with a view of the kymograph and some dials to tune in algorithm settings. We open with a custom `axis_aspect_ratio` which determines our field of view. This input is not necessary, but provides a better view of our data.\n",
    "\n",
    "We will be using the greedy algorithm. For more information on how it works, please refer to the [Pylake kymotracking tutorial](https://lumicks-pylake.readthedocs.io/en/stable/examples/cas9_kymotracking/../../tutorial/kymotracking.html#track-greedy). The `threshold` should typically be chosen somewhere between the expected baseline photon count and the photon count of a true track (note that you can see the local photon count between square brackets while hovering over the kymograph). The `track width` should roughly be set to the expected spot size (in the spatial dimension) of a track. The `window` should be chosen such that small gaps in a track can be overcome, but not so large that spurious points may be strung together as a track. `Sigma` controls how much the location can fluctuate from one time point to the next, while the `min length` determines how many peak points should be in a track for it to be considered a valid track. The optional `adjacency_filter` removes detections that have no detections in their neighboring frame (prior to tracking) which can cut down on noise.\n",
    "\n",
    "Holding down the left mouse button and dragging pans the view, while the right mouse button allows us to drag a region where we should perform tracking. Any track which overlaps with the selected area will be removed before tracking new ones.\n",
    "\n",
    "The icon with the little square can be used to toggle zoom mode, which will allow you to zoom in one subsection of the kymograph. Clicking it again brings us back out of zoom mode. You can zoom out again by clicking the home button. Quite often, it is beneficial to find some adequate settings for track all, and then fine-tune the results using the manual rectangle selection. It’s not mandatory to use the same settings throughout the kymograph. For example, if you see a particular event where two tracks are disconnected but should be connected, temporarily increase the window size and just drag a rectangle over that particular track while having the option `Track` enabled.\n",
    "\n",
    "Now, let’s do some tracking. There are two ways to approach this analysis. The first is to just use the rectangle selection, which can be quite time intensive. Alternatively, you can use `Track All` to simply track the entire kymograph, and then remove spurious detections by hand. This can be good to get a feel for the parameters as well. If we select the `Remove Tracks` mode we will start removing tracks without grabbing new ones. This functionality can be used to remove spurious detections.\n",
    "\n",
    "Finally, if you wish to connect two tracks in the kymograph manually, you can switch to the `Connect Tracks` mode. In this mode you can click a point in one track with the right mouse button and connect it to another by dragging to a point in the track you wish to connect it to.\n",
    "\n",
    "Note that in this data for example, there are some regions where fluorescence starts building up on the surface of the bead. This binding should be omitted from the analysis:"
   ]
  },
  {
   "cell_type": "code",
   "execution_count": null,
   "id": "d98352ae",
   "metadata": {},
   "outputs": [],
   "source": [
    "kymowidget = lk.KymoWidgetGreedy(\n",
    "    kymo_ds,\n",
    "    \"green\",\n",
    "    axis_aspect_ratio=2.5,\n",
    "    min_length=4,\n",
    "    pixel_threshold=3,\n",
    "    window=7,\n",
    "    sigma=0.14,\n",
    "    vmax=8,\n",
    "    adjacency_filter=True,\n",
    "    cmap=\"viridis\",\n",
    "    correct_origin=True\n",
    ")"
   ]
  },
  {
   "cell_type": "markdown",
   "id": "2ac50fcf",
   "metadata": {},
   "source": [
    "One last thing to note is that we assigned the [`KymoWidgetGreedy`](https://lumicks-pylake.readthedocs.io/en/stable/examples/cas9_kymotracking/../../_api/lumicks.pylake.KymoWidgetGreedy.html#lumicks.pylake.KymoWidgetGreedy) to the variable `kymowidget`. That means that from this point on, we can interact with it through the handle name `kymowidget`.\n",
    "\n",
    "Exporting from the widget results in a file that contains the track coordinates in pixels and real units. If we also want to export the photon counts in a region around the track, we can include a `sampling_width`. This sums the photon counts from `pixel_position - sampling_width` to (and including) `pixel_position + sampling_width`:"
   ]
  },
  {
   "cell_type": "code",
   "execution_count": null,
   "id": "477a40d4",
   "metadata": {},
   "outputs": [],
   "source": [
    "kymowidget.save_tracks(\"kymotracks_calibrated.txt\", sampling_width=3)"
   ]
  },
  {
   "cell_type": "markdown",
   "id": "4207dcba",
   "metadata": {},
   "source": [
    "## Analyzing the results\n",
    "\n",
    "The tracks are available from the `tracks` property, which returns a [`KymoTrackGroup`](https://lumicks-pylake.readthedocs.io/en/stable/examples/cas9_kymotracking/../../_api/lumicks.pylake.kymotracker.kymotrack.KymoTrackGroup.html#lumicks.pylake.kymotracker.kymotrack.KymoTrackGroup) object. This is a customized list of [`KymoTrack`](https://lumicks-pylake.readthedocs.io/en/stable/examples/cas9_kymotracking/../../_api/lumicks.pylake.kymotracker.kymotrack.KymoTrack.html#lumicks.pylake.kymotracker.kymotrack.KymoTrack) objects which in turn contain lists of position and time coordinates for each tracked particle. These coordinates can be accessed with the [`position`](https://lumicks-pylake.readthedocs.io/en/stable/examples/cas9_kymotracking/../../_api/lumicks.pylake.kymotracker.kymotrack.KymoTrack.html#lumicks.pylake.kymotracker.kymotrack.KymoTrack.position) and [`seconds`](https://lumicks-pylake.readthedocs.io/en/stable/examples/cas9_kymotracking/../../_api/lumicks.pylake.kymotracker.kymotrack.KymoTrack.html#lumicks.pylake.kymotracker.kymotrack.KymoTrack.seconds) properties, respectively. Let’s grab the longest track we found, and have a look at its position over time:"
   ]
  },
  {
   "cell_type": "code",
   "execution_count": null,
   "id": "3985efd9",
   "metadata": {},
   "outputs": [],
   "source": [
    "lengths = [len(track) for track in kymowidget.tracks]\n",
    "\n",
    "# Get the index of the longest track\n",
    "longest_index = np.argmax(lengths)\n",
    "\n",
    "# Select the longest track\n",
    "longest_track = kymowidget.tracks[longest_index]\n",
    "\n",
    "plt.figure(figsize=(5, 3))\n",
    "plt.plot(longest_track.seconds, longest_track.position)\n",
    "plt.xlabel('Time [s]')\n",
    "plt.ylabel(r'Position [$\\mu$m]')\n",
    "plt.tight_layout()\n",
    "plt.show()"
   ]
  },
  {
   "cell_type": "markdown",
   "id": "04665737",
   "metadata": {},
   "source": [
    "The track coordinates can be used to sample the photon counts in the image. The example below demonstrates how to obtain the sum of the photon counts in a pixel region around the track from -3 to 3 (a track with a width of 7 pixels). The background per pixel as computed earlier is subtracted from the photon counts. Since the kymograph was downsampled by a factor 2 after computing the background, the background per pixel is multiplied by 2:"
   ]
  },
  {
   "cell_type": "code",
   "execution_count": null,
   "id": "d0499cbe",
   "metadata": {},
   "outputs": [],
   "source": [
    "window = 3\n",
    "bg_corrected = longest_track.sample_from_image(window, correct_origin=True) - (2 * window + 1) * 2 * green_background_per_pixel\n",
    "\n",
    "plt.figure()\n",
    "plt.plot(longest_track.seconds, bg_corrected)\n",
    "plt.ylabel('Photon count')\n",
    "plt.xlabel('Time [s]')\n",
    "plt.title('Photon counts along the longest track')\n",
    "plt.tight_layout()\n",
    "plt.show()"
   ]
  },
  {
   "cell_type": "markdown",
   "id": "18d8e7b9",
   "metadata": {},
   "source": [
    "Since we are interested in how the binding events are affected by the applied force, let’s have a look how long the tracks are when we compare them to the force:"
   ]
  },
  {
   "cell_type": "code",
   "execution_count": null,
   "id": "d5d301bd",
   "metadata": {},
   "outputs": [],
   "source": [
    "plt.figure(figsize=(6, 3))\n",
    "ax1 = plt.subplot(1, 1, 1)\n",
    "time = file[\"Force LF\"][\"Force 1x\"].seconds\n",
    "force = file[\"Force LF\"][\"Force 1x\"].data\n",
    "plt.plot(time, force)\n",
    "plt.xlabel('Time [s]')\n",
    "plt.ylabel('Force [pN]')\n",
    "\n",
    "ax2 = ax1.twinx()\n",
    "track_start_times = np.array([track.seconds[0] for track in kymowidget.tracks])\n",
    "track_stop_times = np.array([track.seconds[-1] for track in kymowidget.tracks])\n",
    "track_durations = track_stop_times - track_start_times\n",
    "[plt.plot(track_start_times, track_durations, 'k.') for track in kymowidget.tracks]\n",
    "plt.ylabel('Trace Duration [s]')\n",
    "plt.xlabel('Start time [s]')\n",
    "plt.tight_layout()"
   ]
  },
  {
   "cell_type": "markdown",
   "id": "9da4134a",
   "metadata": {},
   "source": [
    "However, what we wanted to know was how the force affects initiation. To determine this, we will need to know the force at which events were started. To do this, we compare the `track_start_time` we just computed to the time in the force channel. What we want is the index with the smallest distance to our track start time. We can use [`numpy.argmin()`](None) for this, which will return the index of the minimum value in a list. Once we have the index, we can quickly look up the force for each track start position:"
   ]
  },
  {
   "cell_type": "code",
   "execution_count": null,
   "id": "653dd781",
   "metadata": {},
   "outputs": [],
   "source": [
    "force_index = [np.argmin(np.abs(time - track_start_time)) for track_start_time in track_start_times]\n",
    "track_forces = force[force_index]"
   ]
  },
  {
   "cell_type": "markdown",
   "id": "b2e988e5",
   "metadata": {},
   "source": [
    "We can look at the number of events started at each force by making a histogram of these start events. Let’s make a `10` bin histogram for forces from `10` to `60`:"
   ]
  },
  {
   "cell_type": "code",
   "execution_count": null,
   "id": "2b12d1df",
   "metadata": {},
   "outputs": [],
   "source": [
    "events_started, edges = np.histogram(track_forces, 10, range=(10, 60))"
   ]
  },
  {
   "cell_type": "markdown",
   "id": "8915fee8",
   "metadata": {},
   "source": [
    "Since we didn’t spend an equal amount of time in each force bin, we should normalize by the time spent in each force bin. We can also compute this with a histogram:"
   ]
  },
  {
   "cell_type": "code",
   "execution_count": null,
   "id": "495a3dce",
   "metadata": {},
   "outputs": [],
   "source": [
    "samples_spent_at_force, edges = np.histogram(force, 10, range=(10, 60))"
   ]
  },
  {
   "cell_type": "markdown",
   "id": "2a34426a",
   "metadata": {},
   "source": [
    "And that gives us sufficient information to make the plot:"
   ]
  },
  {
   "cell_type": "code",
   "execution_count": null,
   "id": "98d782a4",
   "metadata": {},
   "outputs": [],
   "source": [
    "centers = 0.5 * (edges[:-1] + edges[1:])\n",
    "plt.figure()\n",
    "plt.plot(centers, events_started / samples_spent_at_force)\n",
    "plt.xlabel('Force [pN]')\n",
    "plt.ylabel('Average # binding events / # force samples')"
   ]
  }
 ],
 "metadata": {
  "language_info": {
   "name": "python"
  }
 },
 "nbformat": 4,
 "nbformat_minor": 5
}
