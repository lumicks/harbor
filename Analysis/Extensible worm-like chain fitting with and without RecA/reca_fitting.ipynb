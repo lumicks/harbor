{
 "cells": [
  {
   "cell_type": "code",
   "execution_count": null,
   "id": "eaec570e",
   "metadata": {},
   "outputs": [],
   "source": [
    "import numpy as np\n",
    "import matplotlib.pyplot as plt\n",
    "\n",
    "import lumicks.pylake as lk\n",
    "\n",
    "%matplotlib inline"
   ]
  },
  {
   "cell_type": "markdown",
   "id": "b78a418e",
   "metadata": {},
   "source": [
    "## RecA Fd Fitting\n",
    "\n",
    "RecA is a protein that is involved in DNA repair. In this notebook, we analyze data acquired in the presence and absence of RecA. RecA forms nucleoprotein filaments on DNA and is able to mechanically modify the DNA structure. Here, we quantify these changes using the worm-like chain model.\n",
    "\n",
    "Let’s first load our data and see which curves are present in these files:"
   ]
  },
  {
   "cell_type": "code",
   "execution_count": null,
   "id": "cb1090cb",
   "metadata": {},
   "outputs": [],
   "source": [
    "filenames = lk.download_from_doi(\"10.5281/zenodo.7729929\", \"test_data\")\n",
    "control_file = lk.File(\"test_data/fdcurve.h5\")\n",
    "reca_file = lk.File(\"test_data/fdcurve_reca.h5\")"
   ]
  },
  {
   "cell_type": "code",
   "execution_count": null,
   "id": "7737e82b",
   "metadata": {},
   "outputs": [],
   "source": [
    "print(control_file.fdcurves)\n",
    "print(reca_file.fdcurves)"
   ]
  },
  {
   "cell_type": "markdown",
   "id": "0ed8ea28",
   "metadata": {},
   "source": [
    "## Plot the data\n",
    "\n",
    "We see that each of the files has just one Fd curve. We can access the Fd curves by invoking `control_file[curve_name]`, or alternatively, since there’s only one, we can simply use `popitem`. Let’s have a quick look at the data:"
   ]
  },
  {
   "cell_type": "code",
   "execution_count": null,
   "id": "cd2ba4ef",
   "metadata": {},
   "outputs": [],
   "source": [
    "control_name, control_curve = control_file.fdcurves.popitem()\n",
    "reca_name, reca_curve = reca_file.fdcurves.popitem()\n",
    "\n",
    "control_curve.plot_scatter(s=1, c=\"k\")\n",
    "reca_curve.plot_scatter(s=1, c=\"r\")"
   ]
  },
  {
   "cell_type": "markdown",
   "id": "6d022144",
   "metadata": {},
   "source": [
    "## Set up the model\n",
    "\n",
    "For this we want to use an inverted worm-like chain model. We also include an estimated distance and force offset:"
   ]
  },
  {
   "cell_type": "code",
   "execution_count": null,
   "id": "631fc2f4",
   "metadata": {},
   "outputs": [],
   "source": [
    "model = lk.ewlc_odijk_force(\"DNA\").subtract_independent_offset() + lk.force_offset(\"DNA\")"
   ]
  },
  {
   "cell_type": "markdown",
   "id": "80239dae",
   "metadata": {},
   "source": [
    "We would like to fit this model to some data. So let’s make a [`FdFit`](https://lumicks-pylake.readthedocs.io/en/stable/examples/reca_fitting/../../_api/lumicks.pylake.FdFit.html#lumicks.pylake.FdFit):"
   ]
  },
  {
   "cell_type": "code",
   "execution_count": null,
   "id": "bc5d08a8",
   "metadata": {},
   "outputs": [],
   "source": [
    "fit = lk.FdFit(model)"
   ]
  },
  {
   "cell_type": "markdown",
   "id": "74c99764",
   "metadata": {},
   "source": [
    "Let’s have a look at the parameters in this model:"
   ]
  },
  {
   "cell_type": "code",
   "execution_count": null,
   "id": "bc62b1a3",
   "metadata": {},
   "outputs": [],
   "source": [
    "print(model.parameter_names)"
   ]
  },
  {
   "cell_type": "markdown",
   "id": "5acc74b8",
   "metadata": {},
   "source": [
    "## Load the data\n",
    "\n",
    "We have to be careful when loading the data, as the Odijk worm-like chain model is only valid for intermediate forces (0 - 30 pN). That means we’ll have to crop out the section of the data that’s outside this range. We can do this by creating a logical mask which is true for the data we wish to include and false for the data we wish to exclude.\n",
    "\n",
    "The data in an [`FdCurve`](https://lumicks-pylake.readthedocs.io/en/stable/examples/reca_fitting/../../_api/lumicks.pylake.fdcurve.FdCurve.html#lumicks.pylake.fdcurve.FdCurve) can be referenced by invoking the f and d attribute for force and distance respectively. This returns [`Slice`](https://lumicks-pylake.readthedocs.io/en/stable/examples/reca_fitting/../../_api/lumicks.pylake.channel.Slice.html#lumicks.pylake.channel.Slice) objects, from which we can extract the data by calling `.data`. Since we have to do this twice, let’s make a little function that extracts the data from the [`FdCurve`](https://lumicks-pylake.readthedocs.io/en/stable/examples/reca_fitting/../../_api/lumicks.pylake.fdcurve.FdCurve.html#lumicks.pylake.fdcurve.FdCurve) and filters it:"
   ]
  },
  {
   "cell_type": "code",
   "execution_count": null,
   "id": "0282e0d6",
   "metadata": {},
   "outputs": [],
   "source": [
    "def extract_data(fdcurve, f_min, f_max):\n",
    "    f = fdcurve.f.data\n",
    "    d = fdcurve.d.data\n",
    "    mask = (f < f_max) & (f > f_min)\n",
    "    return f[mask], d[mask]\n",
    "\n",
    "force_control, distance_control = extract_data(control_curve, 0, 30)\n",
    "force_reca, distance_reca = extract_data(reca_curve, 0, 30)"
   ]
  },
  {
   "cell_type": "markdown",
   "id": "13246919",
   "metadata": {},
   "source": [
    "We can load data into the [`FdFit`](https://lumicks-pylake.readthedocs.io/en/stable/examples/reca_fitting/../../_api/lumicks.pylake.FdFit.html#lumicks.pylake.FdFit) by using the function `add_data`:"
   ]
  },
  {
   "cell_type": "code",
   "execution_count": null,
   "id": "8efe0cad",
   "metadata": {},
   "outputs": [],
   "source": [
    "fit.add_data(\"Control\", force_control, distance_control)"
   ]
  },
  {
   "cell_type": "markdown",
   "id": "0b3d7c0f",
   "metadata": {},
   "source": [
    "If parameters are expected to differ between conditions, we can rename them for a specific data set when adding data to the fit. For the second data set, we expect the contour length, persistence length and stiffness to be different, so let’s rename these. We can do this by passing an extra argument named `params`. This argument takes a dictionary. The keys of this dictionary have to be given by the original name of the parameter in the model. This name is typically given by the name of the model followed by a slash and then the model parameter name. The value of this dictionary should be set to the model name slash the new parameter name. Let’s rename the contour length Lc, persistence length Lp and stretch modulus St for this data set:"
   ]
  },
  {
   "cell_type": "code",
   "execution_count": null,
   "id": "edfc512a",
   "metadata": {},
   "outputs": [],
   "source": [
    "fit.add_data(\"RecA\", force_reca, distance_reca,\n",
    "             params={\"DNA/Lc\": \"DNA/Lc_RecA\", \"DNA/Lp\": \"DNA/Lp_RecA\",\n",
    "                     \"DNA/St\": \"DNA/St_RecA\"})"
   ]
  },
  {
   "cell_type": "markdown",
   "id": "89d57e99",
   "metadata": {},
   "source": [
    "## Set up the fit\n",
    "\n",
    "Let’s add some custom parameter bounds:"
   ]
  },
  {
   "cell_type": "code",
   "execution_count": null,
   "id": "6fd8f776",
   "metadata": {},
   "outputs": [],
   "source": [
    "fit[\"DNA/Lp\"].value = 50\n",
    "fit[\"DNA/Lp\"].lower_bound = 39\n",
    "fit[\"DNA/Lp\"].upper_bound = 80\n",
    "\n",
    "fit[\"DNA/St\"].value = 1200\n",
    "fit[\"DNA/St\"].lower_bound = 700\n",
    "fit[\"DNA/St\"].upper_bound = 2000"
   ]
  },
  {
   "cell_type": "markdown",
   "id": "a01a7407",
   "metadata": {},
   "source": [
    "## Fit the model\n",
    "\n",
    "Everything is set up now and we can proceed to fit the model:"
   ]
  },
  {
   "cell_type": "code",
   "execution_count": null,
   "id": "a80b373f",
   "metadata": {},
   "outputs": [],
   "source": [
    "fit.fit()"
   ]
  },
  {
   "cell_type": "markdown",
   "id": "efec158e",
   "metadata": {},
   "source": [
    "## Plot the fit\n",
    "\n",
    "Calling the plot function on the [`FdFit`](https://lumicks-pylake.readthedocs.io/en/stable/examples/reca_fitting/../../_api/lumicks.pylake.FdFit.html#lumicks.pylake.FdFit) (i.e. `fit.plot()`) plots the fit alongside the data:"
   ]
  },
  {
   "cell_type": "code",
   "execution_count": null,
   "id": "7b51a796",
   "metadata": {},
   "outputs": [],
   "source": [
    "fit.plot()\n",
    "plt.ylabel(\"Force [pN]\")\n",
    "plt.xlabel(\"Distance [$\\\\mu$M]\")"
   ]
  },
  {
   "cell_type": "markdown",
   "id": "aca89061",
   "metadata": {},
   "source": [
    "We would like to compare the two modelled curves without the data. Since we named our data sets, we can simply plot them with their respective names. Instead this time, we specify `plot_data = False` to indicate that we do not wish to plot the data this time:"
   ]
  },
  {
   "cell_type": "code",
   "execution_count": null,
   "id": "21da4887",
   "metadata": {},
   "outputs": [],
   "source": [
    "fit.plot(\"Control\", \"r--\", np.arange(2.1, 5.0, 0.01), plot_data=False)\n",
    "fit.plot(\"RecA\", \"r--\", np.arange(2.1, 5.0, 0.01), plot_data=False)\n",
    "plt.ylabel(\"Force [pN]\")\n",
    "plt.xlabel(\"Distance [$\\\\mu$M]\")\n",
    "plt.ylim([0, 30])\n",
    "plt.xlim([2, 3.1])"
   ]
  },
  {
   "cell_type": "markdown",
   "id": "4c59b8b4",
   "metadata": {},
   "source": [
    "Let’s print the contour length difference due to RecA. We multiply by 1000 since we desire this value in nanometers:"
   ]
  },
  {
   "cell_type": "code",
   "execution_count": null,
   "id": "64ba5c06",
   "metadata": {},
   "outputs": [],
   "source": [
    "delta_lc = (fit[\"DNA/Lc_RecA\"].value - fit[\"DNA/Lc\"].value) * 1000.0\n",
    "print(f\"Contour length difference: {delta_lc:.2f} [nm]\")"
   ]
  },
  {
   "cell_type": "markdown",
   "id": "972b1d51",
   "metadata": {},
   "source": [
    "## Try another model\n",
    "\n",
    "There are more models in pylake. We can also try the Marko Siggia model for instance and see if it fits this data any differently:"
   ]
  },
  {
   "cell_type": "code",
   "execution_count": null,
   "id": "f8e4088b",
   "metadata": {},
   "outputs": [],
   "source": [
    "ms_model = lk.ewlc_marko_siggia_force(\"DNA\").subtract_independent_offset() + lk.force_offset(\"DNA\")\n",
    "ms_fit = lk.FdFit(ms_model)\n",
    "ms_fit.add_data(\"Control\", force_control, distance_control)\n",
    "ms_fit.add_data(\"RecA\", force_reca, distance_reca,\n",
    "                        params={\"DNA/Lc\": \"DNA/Lc_RecA\", \"DNA/Lp\": \"DNA/Lp_RecA\",\n",
    "                                \"DNA/St\": \"DNA/St_RecA\"})\n",
    "ms_fit.fit();"
   ]
  },
  {
   "cell_type": "markdown",
   "id": "891a311c",
   "metadata": {},
   "source": [
    "## Plot the competing models\n",
    "\n",
    "Let’s plot the models side by side, so we can get an idea of which model fits best:"
   ]
  },
  {
   "cell_type": "code",
   "execution_count": null,
   "id": "925050a8",
   "metadata": {},
   "outputs": [],
   "source": [
    "plt.figure(figsize=(20,5))\n",
    "plt.subplot(1, 2, 1)\n",
    "fit.plot()\n",
    "plt.title(\"Odijk\")\n",
    "plt.ylim([0,10])\n",
    "plt.subplot(1, 2, 2)\n",
    "ms_fit.plot()\n",
    "plt.title(\"Marko-Siggia\")\n",
    "plt.ylim([0,10])"
   ]
  },
  {
   "cell_type": "markdown",
   "id": "52751603",
   "metadata": {},
   "source": [
    "At first glance, the model fits look very similar. Since we were interested in the contour length changes, let’s have a look at what these models predict for the change in contour length:"
   ]
  },
  {
   "cell_type": "code",
   "execution_count": null,
   "id": "59172ab5",
   "metadata": {},
   "outputs": [],
   "source": [
    "delta_lc = (fit[\"DNA/Lc_RecA\"].value - fit[\"DNA/Lc\"].value) * 1000.0\n",
    "print(f\"Contour length difference Odijk: {delta_lc:.2f} [nm]\")\n",
    "delta_lc = (ms_fit[\"DNA/Lc_RecA\"].value - ms_fit[\"DNA/Lc\"].value) * 1000.0\n",
    "print(f\"Contour length difference Marko-Siggia: {delta_lc:.2f} [nm]\")"
   ]
  },
  {
   "cell_type": "markdown",
   "id": "00e5bc2c",
   "metadata": {},
   "source": [
    "These results are very similar, increasing our confidence in the result.\n",
    "\n",
    "## Which fit is statistically optimal\n",
    "\n",
    "We can also determine how well a model fits the data by looking at the corrected Akaike Information Criterion and Bayesian Information Criterion. Here, a low value indicates a better model.\n",
    "\n",
    "We can see here that both criteria seem to indicate that the Odijk model provides the best fit. Please note however, that it is always important to verify that the model produce sensible results. More freedom to fit parameters, will almost always lead to an improved fit, and this additional freedom can lead to fits that produce non-physical results. Information criteria tend to try and penalize unnecessary over-fitting, but they do not guard against unphysical parameter values.\n",
    "\n",
    "Generally, it is always a good idea to try multiple models, and multiple sets of bound constraints, to get a feel for how reliable the estimates are:"
   ]
  },
  {
   "cell_type": "code",
   "execution_count": null,
   "id": "ff2f70f8",
   "metadata": {},
   "outputs": [],
   "source": [
    "print(\"Corrected Akaike Information Criterion\")\n",
    "print(f\"Odijk Model with force offset {fit.aicc}\")\n",
    "print(f\"Marko-Siggia Model with force offset {ms_fit.aicc}\")\n",
    "print(\"Bayesian Information Criterion\")\n",
    "print(f\"Odijk Model with force offset {fit.bic}\")\n",
    "print(f\"Marko-Siggia Model with force offset {ms_fit.bic}\")"
   ]
  },
  {
   "cell_type": "markdown",
   "id": "4f44fde7",
   "metadata": {},
   "source": [
    "We can also quickly compare parameter values:"
   ]
  },
  {
   "cell_type": "code",
   "execution_count": null,
   "id": "0c2c80bd",
   "metadata": {},
   "outputs": [],
   "source": [
    "fit.params"
   ]
  },
  {
   "cell_type": "code",
   "execution_count": null,
   "id": "c61361bf",
   "metadata": {},
   "outputs": [],
   "source": [
    "ms_fit.params"
   ]
  },
  {
   "cell_type": "markdown",
   "id": "53276163",
   "metadata": {},
   "source": [
    "## Dynamic experiments\n",
    "\n",
    "We can see some differences in the estimates but nothing that would be a cause for immediate concern, so let’s stick with the Odijk model for the rest of this analysis as it fits slightly better. One thing we noticed when acquiring the data was that some of the experiments showed some dynamics. It would be interesting to look at the contour length changes for these experiments. To this end, we take the model we just fitted and determine a contour length per data point of this model while keeping all other parameters the same.\n",
    "\n",
    "Let’s load the data and have a look:"
   ]
  },
  {
   "cell_type": "code",
   "execution_count": null,
   "id": "91b86432",
   "metadata": {},
   "outputs": [],
   "source": [
    "dynamic_file = lk.File(\"test_data/fd_multiple_Lc.h5\")\n",
    "dynamic_name, dynamic_curve = dynamic_file.fdcurves.popitem()\n",
    "dynamic_curve.plot_scatter()"
   ]
  },
  {
   "cell_type": "markdown",
   "id": "8c2b2504",
   "metadata": {},
   "source": [
    "Once again, we extract our data up to 25 pN. We can reuse the function we defined earlier:"
   ]
  },
  {
   "cell_type": "code",
   "execution_count": null,
   "id": "ff07f099",
   "metadata": {},
   "outputs": [],
   "source": [
    "force_dynamic, distance_dynamic = extract_data(dynamic_curve, 0, 25)"
   ]
  },
  {
   "cell_type": "markdown",
   "id": "ebb3c2b1",
   "metadata": {},
   "source": [
    "## A contour length per point\n",
    "\n",
    "Now comes the more challenging part. Inverting the model for contour length. Luckily, this procedure has already been implemented in Pylake. The function [`parameter_trace()`](https://lumicks-pylake.readthedocs.io/en/stable/examples/reca_fitting/../../_api/lumicks.pylake.parameter_trace.html#lumicks.pylake.parameter_trace) inverts the model for a particular model parameter. Let’s have a look at the parameters it needs. We can look this up in the documentation for [`parameter_trace()`](https://lumicks-pylake.readthedocs.io/en/stable/examples/reca_fitting/../../_api/lumicks.pylake.parameter_trace.html#lumicks.pylake.parameter_trace) or invoke help:"
   ]
  },
  {
   "cell_type": "code",
   "execution_count": null,
   "id": "2a5d4ec2",
   "metadata": {},
   "outputs": [],
   "source": [
    "help(lk.parameter_trace)"
   ]
  },
  {
   "cell_type": "markdown",
   "id": "7245a12e",
   "metadata": {},
   "source": [
    "Let’s see if we have all these pieces of information. We stored the model in the variable `model`. We can extract the parameters for the RecA condition using the name we provided to the dataset before (i.e. `fit[\"RecA\"]`). The parameter we wish to invert for is `DNA/Lc` and for the independent and dependent variables we simply pass the dataset:"
   ]
  },
  {
   "cell_type": "code",
   "execution_count": null,
   "id": "8ce79aa7",
   "metadata": {},
   "outputs": [],
   "source": [
    "Lcs = lk.parameter_trace(model, fit[\"RecA\"], \"DNA/Lc\", distance_dynamic, force_dynamic)"
   ]
  },
  {
   "cell_type": "markdown",
   "id": "0d4d8e03",
   "metadata": {},
   "source": [
    "Let’s plot it:"
   ]
  },
  {
   "cell_type": "code",
   "execution_count": null,
   "id": "845cd67f",
   "metadata": {},
   "outputs": [],
   "source": [
    "plt.plot(Lcs)\n",
    "plt.ylabel(\"Contour lengths\")\n",
    "plt.xlabel(\"Time [s]\")"
   ]
  },
  {
   "cell_type": "markdown",
   "id": "143090eb",
   "metadata": {},
   "source": [
    "Looks like some of the estimates are way off early in the curve. Doing this inversion at very low distances is quite error prone, likely due to the non-linearity of the model. In addition, the Odijk model is known to not be reliable at low forces, so we would like to exclude this data anyway. Let’s only look at the points where the distance is higher than 2.25 micrometers:"
   ]
  },
  {
   "cell_type": "code",
   "execution_count": null,
   "id": "41f58aeb",
   "metadata": {},
   "outputs": [],
   "source": [
    "distance_mask = distance_dynamic > 2.2\n",
    "\n",
    "plt.plot(distance_dynamic[distance_mask], Lcs[distance_mask])\n",
    "plt.ylabel(\"Contour length [micron]\")\n",
    "plt.xlabel(\"Distance [micron]\")"
   ]
  },
  {
   "cell_type": "markdown",
   "id": "351353c7",
   "metadata": {},
   "source": [
    "Here we can see the different contour length transitions quite clearly. There seems to be one region of contour lengths around 3.2 before finally lengthening to 3.4 micrometers."
   ]
  }
 ],
 "metadata": {
  "language_info": {
   "name": "python"
  }
 },
 "nbformat": 4,
 "nbformat_minor": 5
}
