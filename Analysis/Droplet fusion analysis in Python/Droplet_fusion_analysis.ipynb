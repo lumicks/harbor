{
 "cells": [
  {
   "cell_type": "code",
   "execution_count": null,
   "id": "c7e6e405",
   "metadata": {},
   "outputs": [],
   "source": [
    "import numpy as np\n",
    "import matplotlib.pyplot as plt\n",
    "\n",
    "import lumicks.pylake as lk\n",
    "\n",
    "%matplotlib inline"
   ]
  },
  {
   "cell_type": "markdown",
   "id": "b0fe2ce4",
   "metadata": {},
   "source": [
    "<div class=\"alert alert-block alert-danger\"><b>Warning: </b>Disclaimer: This analysis has not yet been tested in a large number of different scenarios.</div>\n",
    "\n",
    "## Analyzing a droplet fusion event\n",
    "\n",
    "The data in this notebook were acquired by moving two fluorescently labeled RNA droplets together at a constant speed. The droplets were held by optical tweezers and the right tweezers is moving while the left one is static. As the droplets come close together, they fuse to form one, larger droplet. The relaxation time of the fusion event, 𝜏, together with the radii of the droplets can reveal something about the material properties of the droplets; when plotting 𝜏 vs the average droplet radius for many droplets, the slope is given by 𝜂/𝛾, viscosity (Pa*s) /surface tension (N/m), assuming a Newtonian fluid 1. The ratio 𝜂/𝛾 is also known as the inverse capillary velocity.\n",
    "\n",
    "Both the PSD signal (usually used to determine force exerted by the optical tweezers) and a scan were recorded during the experiment. The PSD signal has a much higher time resolution than the images, therefore it is best to use PSD signal to determine the relaxation time of the fusion event. In this Notebook, we will first obtain the relaxation time from the PSD signal and then estimate the size of the droplets from the scan.\n",
    "\n",
    "## Download the droplet fusion data\n",
    "\n",
    "The droplet fusion data are stored on zenodo.org. We can download the data directly from Zenodo using the function [`download_from_doi()`](https://lumicks-pylake.readthedocs.io/en/stable/examples/droplet_fusion/../../_api/lumicks.pylake.download_from_doi.html#lumicks.pylake.download_from_doi). The data will be stored in the folder called `\"test_data\"`:"
   ]
  },
  {
   "cell_type": "code",
   "execution_count": null,
   "id": "97d7003a",
   "metadata": {},
   "outputs": [],
   "source": [
    "filenames = lk.download_from_doi(\"10.5281/zenodo.12772709\", \"test_data\")"
   ]
  },
  {
   "cell_type": "markdown",
   "id": "963af8b7",
   "metadata": {},
   "source": [
    "## Relaxation time of fusion event\n",
    "\n",
    "First, plot the PSD signal using Pylake. Since the assumptions underlying force calibration are not met during the fusion event, the absolute value of the force is not reliable, and we label the y-axis as ‘PSD signal’:"
   ]
  },
  {
   "cell_type": "code",
   "execution_count": null,
   "id": "b300750b",
   "metadata": {},
   "outputs": [],
   "source": [
    "f = lk.File(\"test_data/Droplet_fusion_data.h5\")\n",
    "plt.figure()\n",
    "f[\"Force HF\"][\"Force 2x\"].plot()\n",
    "plt.ylabel(\"PSD signal (a.u.)\")\n",
    "plt.show()"
   ]
  },
  {
   "cell_type": "markdown",
   "id": "3bb085b9",
   "metadata": {},
   "source": [
    "The jump in the signal after 5 seconds shows the typical exponential relaxation for a droplet fusion event.\n",
    "\n",
    "### Select data for fit\n",
    "\n",
    "Below we are selecting the force and trap data at the fusion event. When fitting the fusion relaxation time, it is important that the traps holding the droplets are either both static, or one of the traps is moving at a constant speed. We plot the trap position over time to check which of these conditions is met:"
   ]
  },
  {
   "cell_type": "code",
   "execution_count": null,
   "id": "7c97cade",
   "metadata": {},
   "outputs": [],
   "source": [
    "start = \"5.414s\"\n",
    "stop = \"5.9s\"\n",
    "\n",
    "force_selection = f.force2x[start:stop]\n",
    "trap_selection = f[\"Trap position\"][\"1X\"][start:stop]\n",
    "\n",
    "plt.figure()\n",
    "plt.subplot(2, 1, 1)\n",
    "force_selection.plot()\n",
    "plt.ylabel(\"PSD signal (a.u.)\")\n",
    "plt.subplot(2, 1, 2)\n",
    "trap_selection.plot()\n",
    "plt.ylabel(r\"x-coordinate ($\\mu$m)\")\n",
    "plt.tight_layout()\n",
    "plt.show()"
   ]
  },
  {
   "cell_type": "markdown",
   "id": "c505a935",
   "metadata": {},
   "source": [
    "### Model for fusion\n",
    "\n",
    "The force data during the fusion event is fitted with the following equation: $f(t) = ae^{-t/\\tau}+bt+c$\n",
    "\n",
    "The term $bt$ accounts for the movement of the trap, assuming a constant trap speed (2, 3). (When both traps are static, the term $bt$ should be removed from the model.) The parameter of interest is $𝜏$, the relaxation time scale of the fusion event:"
   ]
  },
  {
   "cell_type": "code",
   "execution_count": null,
   "id": "52724612",
   "metadata": {},
   "outputs": [],
   "source": [
    "from scipy.optimize import curve_fit\n",
    "\n",
    "def relaxation_model(t, tau, a, b, c):\n",
    "    return a * np.exp(-t / tau) + b * t + c"
   ]
  },
  {
   "cell_type": "markdown",
   "id": "6255cb7e",
   "metadata": {},
   "source": [
    "Fit the data and plot the result:"
   ]
  },
  {
   "cell_type": "code",
   "execution_count": null,
   "id": "0e60415a",
   "metadata": {},
   "outputs": [],
   "source": [
    "time = force_selection.seconds\n",
    "force = force_selection.data\n",
    "\n",
    "popt, pcov = curve_fit(relaxation_model, time, force, [0.1, force[0], 0, 0])\n",
    "plt.figure()\n",
    "plt.plot(time, force)\n",
    "plt.plot(time, relaxation_model(time,*popt), label=fr\"$\\tau$ = {popt[0]:0.4f}s\")\n",
    "plt.ylabel(r\"PSD signal (a.u.)\")\n",
    "plt.xlabel(\"Time (s)\")\n",
    "plt.legend()\n",
    "plt.show()"
   ]
  },
  {
   "cell_type": "markdown",
   "id": "30b4c029",
   "metadata": {},
   "source": [
    "The array $popt$ contains all the fitted parameters:"
   ]
  },
  {
   "cell_type": "code",
   "execution_count": null,
   "id": "15d47db8",
   "metadata": {},
   "outputs": [],
   "source": [
    "print(popt)"
   ]
  },
  {
   "cell_type": "markdown",
   "id": "5de9fc1c",
   "metadata": {},
   "source": [
    "The first parameter in $popt$ is $𝜏$ and the other 3 parameters are $a$, $b$ and $c$ respectively, as defined in the model above. The matrix $pcov$ is the covariance matrix and the standard deviation errors in the fitted parameters can be obtained as:"
   ]
  },
  {
   "cell_type": "code",
   "execution_count": null,
   "id": "7b3b0935",
   "metadata": {},
   "outputs": [],
   "source": [
    "np.sqrt(np.diag(pcov))"
   ]
  },
  {
   "cell_type": "markdown",
   "id": "cb76b273",
   "metadata": {},
   "source": [
    "The relaxation time obtained from the fit is 0.0557 +- 0.0004 seconds.\n",
    "\n",
    "In practice, the obtained relaxation time also depends on the data selection. It is recommended to repeat the fit for multiple time intervals, and determine the uncertainty in the relaxation time accordingly.\n",
    "\n",
    "Now, we will proceed to determine the size of the droplets before the fusion event.\n",
    "\n",
    "## Droplet size\n",
    "\n",
    "First load the scan and print the relevant metadata:"
   ]
  },
  {
   "cell_type": "code",
   "execution_count": null,
   "id": "b1fb0a6d",
   "metadata": {},
   "outputs": [],
   "source": [
    "for name, scan in f.scans.items():\n",
    "       print(f\"num frames: {scan.num_frames}\")\n",
    "       frame_duration = (scan.frame_timestamp_ranges()[0][1]-scan.frame_timestamp_ranges()[0][0])/1e9\n",
    "       print(f\"frame duration: {frame_duration} s\")"
   ]
  },
  {
   "cell_type": "markdown",
   "id": "44625bab",
   "metadata": {},
   "source": [
    "Plot a frame before the fusion event:"
   ]
  },
  {
   "cell_type": "code",
   "execution_count": null,
   "id": "566acbf7",
   "metadata": {},
   "outputs": [],
   "source": [
    "framenr = 2\n",
    "plt.figure()\n",
    "scan.plot(channel=\"green\", frame=framenr)\n",
    "plt.show()"
   ]
  },
  {
   "cell_type": "markdown",
   "id": "e2cfd2e0",
   "metadata": {},
   "source": [
    "Plot a frame after the fusion event:"
   ]
  },
  {
   "cell_type": "code",
   "execution_count": null,
   "id": "2945ad0e",
   "metadata": {},
   "outputs": [],
   "source": [
    "framenr = 6\n",
    "plt.figure()\n",
    "scan.plot(channel=\"green\", frame=framenr)\n",
    "plt.show()"
   ]
  },
  {
   "cell_type": "markdown",
   "id": "26c3e0b9",
   "metadata": {},
   "source": [
    "If the droplets are in focus, the size of the droplet can be estimated from the 2D scan. The estimate has limited precision because the sphere edges in the scanned images are not very sharp. For experimental data such as the one used in this notebook, we would expect an error on the order of ~10%.\n",
    "\n",
    "The first step, is to use image segmentation to identify the two droplets in the image. The threshold may need to be optimized for your data:"
   ]
  },
  {
   "cell_type": "code",
   "execution_count": null,
   "id": "81eaa799",
   "metadata": {},
   "outputs": [],
   "source": [
    "from skimage.measure import label, regionprops\n",
    "\n",
    "framenr = 2  # Choose a frame before the fusion event on which you want to identify and measure droplets\n",
    "\n",
    "image = scan.get_image(channel=\"red\")[framenr]\n",
    "image = image / np.max(image)\n",
    "threshold = 0.5\n",
    "blobs = image > threshold\n",
    "label_img = label(blobs)\n",
    "\n",
    "plt.figure()\n",
    "plt.subplot(2, 1, 1)\n",
    "plt.title(\"original, normalized image\")\n",
    "plt.imshow(image)\n",
    "plt.subplot(2, 1, 2)\n",
    "plt.title(\"Identified objects\")\n",
    "plt.imshow(label_img)\n",
    "plt.tight_layout()\n",
    "plt.show()\n",
    "\n",
    "if (blobs := len(np.unique(label_img))) != 3:\n",
    "    raise RuntimeError(f\"Expected 2 blobs, found {blobs - 1} instead! Maybe adjust the threshold?\")"
   ]
  },
  {
   "cell_type": "markdown",
   "id": "686e1b2b",
   "metadata": {},
   "source": [
    "For this scan, the fast axis is along the horizontal coordinate (you can check the direction of the fast axis by typing [`scan.fast_axis`](https://lumicks-pylake.readthedocs.io/en/stable/examples/droplet_fusion/../../_api/lumicks.pylake.scan.Scan.html#lumicks.pylake.scan.Scan.fast_axis)). Therefore, we estimate the size of the droplets by looking at the width of the identified objects::"
   ]
  },
  {
   "cell_type": "code",
   "execution_count": null,
   "id": "40fc8e2c",
   "metadata": {},
   "outputs": [],
   "source": [
    "def get_center_and_width(scan, mask, axis):\n",
    "    \"\"\"Grabs the center and width along the fast scanning axis\"\"\"\n",
    "    widths = np.sum(mask, axis=axis)\n",
    "    max_width = np.max(widths)\n",
    "\n",
    "    # Grab the position\n",
    "    coordinate_weighted_mask = np.indices(mask.shape)[axis] * mask\n",
    "    centers = np.sum(coordinate_weighted_mask, axis=axis) / np.clip(np.sum(mask, axis=axis), 1, np.inf)\n",
    "\n",
    "    # Since some scanlines can have the same width, we'd want the vertical position to be the average of these\n",
    "    max_scanline = int(np.mean(np.nonzero(max_width == widths)[0]))\n",
    "\n",
    "    if axis:\n",
    "        center = (centers[max_scanline], max_scanline)\n",
    "    else:\n",
    "        center = (max_scanline, centers[max_scanline])\n",
    "\n",
    "    return center, max_width\n",
    "\n",
    "\n",
    "def plot_width(scan, center, width, axis):\n",
    "    plt.plot(center[0], center[1], \"ko\")\n",
    "    if axis:\n",
    "        plt.plot([center[0] - 0.5 * width, center[0] + 0.5 * width], [center[1], center[1]])\n",
    "    else:\n",
    "        plt.plot([center[0], center[0]], [center[1] - 0.5 * width, center[1] + 0.5 * width])\n",
    "\n",
    "droplet_radii = np.array([])\n",
    "\n",
    "fig, ax = plt.subplots()\n",
    "ax.imshow(image, cmap=plt.cm.gray)\n",
    "plt.xlabel(\"x (pixels)\")\n",
    "plt.ylabel(\"y (pixels)\")\n",
    "axis = 1 if scan.fast_axis == \"X\" else 0\n",
    "center, width = get_center_and_width(scan, label_img == 1, axis)\n",
    "droplet_radii = np.append(droplet_radii, 0.5 * width)\n",
    "plot_width(scan, center, width, axis)\n",
    "center, width = get_center_and_width(scan, label_img == 2, axis)\n",
    "droplet_radii = np.append(droplet_radii, 0.5 * width)\n",
    "plot_width(scan, center, width, axis)\n",
    "\n",
    "plt.title(\"Width along the fast axis\")\n",
    "plt.show()"
   ]
  },
  {
   "cell_type": "markdown",
   "id": "5dd01ad0",
   "metadata": {},
   "source": [
    "The array `droplet_radii` contains the radii of both droplets in the image, in pixels. Below we are multiplying this array by the pixel size in micron to obtain the radii in micron:"
   ]
  },
  {
   "cell_type": "code",
   "execution_count": null,
   "id": "45d773aa",
   "metadata": {},
   "outputs": [],
   "source": [
    "droplet_radii_um = droplet_radii * scan.pixelsize_um[0]"
   ]
  },
  {
   "cell_type": "markdown",
   "id": "57692cfd",
   "metadata": {},
   "source": [
    "The radii for the droplets in micrometers are:"
   ]
  },
  {
   "cell_type": "code",
   "execution_count": null,
   "id": "321f65a6",
   "metadata": {},
   "outputs": [],
   "source": [
    "print(droplet_radii_um)"
   ]
  },
  {
   "cell_type": "markdown",
   "id": "74104b15",
   "metadata": {},
   "source": [
    "We now determined the relaxation time as well as the droplet radii. The next step is to measure these two quantities for many different fusion events, plot 𝜏 vs average radius and determine the slope.\n",
    "\n",
    "1Brangwynne C.P. et al, Germline P Granules Are Liquid Droplets That Localize by Controlled Dissolution/Condensation, Science (2009)\n",
    "\n",
    "2Patel A. et al, A Liquid-to-Solid Phase Transition of the ALS Protein FUS Accelerated by Disease Mutation, Cell (2015)\n",
    "\n",
    "3Kaur T. et al, Molecular Crowding Tunes Material States of Ribonucleoprotein Condensates, Biomolecules (2019)"
   ]
  }
 ],
 "metadata": {
  "language_info": {
   "name": "python"
  }
 },
 "nbformat": 4,
 "nbformat_minor": 5
}
