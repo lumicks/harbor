{
 "cells": [
  {
   "cell_type": "code",
   "execution_count": null,
   "id": "092a001c",
   "metadata": {},
   "outputs": [],
   "source": [
    "import numpy as np\n",
    "import matplotlib.pyplot as plt\n",
    "\n",
    "import lumicks.pylake as lk\n",
    "\n",
    "%matplotlib inline"
   ]
  },
  {
   "cell_type": "markdown",
   "id": "9c917797",
   "metadata": {},
   "source": [
    "# Rate of binding\n",
    "\n",
    "[Download this page as a Jupyter notebook](https://lumicks-pylake.readthedocs.io/en/latest/_downloads/c7c1f3e55f7638ee27b80da58cd35f0f/kon.ipynb)\n",
    "\n",
    "## Determine the rate of binding\n",
    "\n",
    "In this Notebook, we will determine the binding time of a fluorescently labeled protein binding to DNA. The protein binds and unbinds to target sites on DNA and the result is recorded as a kymograph. We track the binding events, and then determine the time intervals between the binding events:\n",
    "\n",
    "These time intervals tell you how long it takes for a protein to bind to an empy target site.\n",
    "\n",
    "The binding time, $\\tau_{on}$ relates to the on rate of protein, $k_{on}$, as $\\tau_{on}=1/ (k_{on}[P])$ . The binding rate $k_{on}$ relates to the dissociation constant as.\n",
    "\n",
    "$$\n",
    "K_{off} = \\frac{k_{off}}{k_{on}}\n",
    "$$\n",
    "\n",
    "For this example, we don’t know the protein concentration and can therefore not determine $k_{on}$ . We will determine the binding time and refer to the inverse of the binding time, as the effective binding rate, $k'_{on} = k_{on}[P]$ . Further, we assume that the bleaching time for the dye is much longer than the binding time, such that we can ignore the effect of bleaching.\n",
    "\n",
    "## Load and plot the kymographs\n",
    "\n",
    "The kymograph and corresponding tracks that are used in this tutorial are stored on zenodo.org. The following line of code downloads the data and stores the data in the folder `\"test_data\"`:"
   ]
  },
  {
   "cell_type": "code",
   "execution_count": null,
   "id": "392af8f7",
   "metadata": {},
   "outputs": [],
   "source": [
    "filenames = lk.download_from_doi(\"10.5281/zenodo.14198300\", \"test_data\")"
   ]
  },
  {
   "cell_type": "markdown",
   "id": "90a4050d",
   "metadata": {},
   "source": [
    "Load and plot the kymograph:"
   ]
  },
  {
   "cell_type": "code",
   "execution_count": null,
   "id": "77968da2",
   "metadata": {},
   "outputs": [],
   "source": [
    "file1 = lk.File(\"test_data/kymo1.h5\")\n",
    "_, kymo1 = file1.kymos.popitem()\n",
    "\n",
    "plt.figure()\n",
    "kymo1.plot(\"g\", aspect = 5, adjustment=lk.ColorAdjustment([0], [5]))"
   ]
  },
  {
   "cell_type": "markdown",
   "id": "c00cae89",
   "metadata": {},
   "source": [
    "## Load the tracks\n",
    "\n",
    "For this tutorial, the binding events have already been tracked in Pylake. Load the tracks as follows:"
   ]
  },
  {
   "cell_type": "code",
   "execution_count": null,
   "id": "91d7b3dc",
   "metadata": {},
   "outputs": [],
   "source": [
    "tracks1 = lk.load_tracks(\"test_data/tracks1.csv\",  kymo1.crop_by_distance(4.9,13.8), \"green\")"
   ]
  },
  {
   "cell_type": "markdown",
   "id": "067e4625",
   "metadata": {},
   "source": [
    "Note that the kymograph passed to `lk.load_tracks` is cropped, because tracking was performed on a cropped kymograph, see [Track the binding events](https://lumicks-pylake.readthedocs.io/en/latest/examples/kon/../binding_lifetime/binding_lifetime.html#tracking).\n",
    "\n",
    "Use the same approach as above to load the tracks exported from Lakeview, except that the part [`Kymo.crop_by_distance()`](https://lumicks-pylake.readthedocs.io/en/latest/examples/kon/../../_api/lumicks.pylake.kymo.Kymo.html#lumicks.pylake.kymo.Kymo.crop_by_distance) has to be removed.\n",
    "\n",
    "## Select target location\n",
    "\n",
    "Plot the tracks:"
   ]
  },
  {
   "cell_type": "code",
   "execution_count": null,
   "id": "24151d31",
   "metadata": {},
   "outputs": [],
   "source": [
    "plt.figure()\n",
    "tracks1.plot()\n",
    "plt.show()"
   ]
  },
  {
   "cell_type": "markdown",
   "id": "66990a27",
   "metadata": {},
   "source": [
    "Next, select the coordinates of the target binding site, for which you would like to determine the on-rate. Often, the location of a target site is identified using, for example, fluorescent markers. On this kymograph, all binding events were on a target sequence. So we can select the target locations manually.\n",
    "\n",
    "First, we select the following region:"
   ]
  },
  {
   "cell_type": "code",
   "execution_count": null,
   "id": "539c9b09",
   "metadata": {},
   "outputs": [],
   "source": [
    "plt.figure()\n",
    "tracks1.plot()\n",
    "plt.hlines(y=8.4, xmin=0,xmax=320)\n",
    "plt.hlines(y=9, xmin=0, xmax=320)"
   ]
  },
  {
   "cell_type": "markdown",
   "id": "dc2bc514",
   "metadata": {},
   "source": [
    "Select all tracks that are on average within the two coordinates indicated in the above image:"
   ]
  },
  {
   "cell_type": "code",
   "execution_count": null,
   "id": "0abc2960",
   "metadata": {},
   "outputs": [],
   "source": [
    "track_selection1 = tracks1[[8.4 < np.mean(track.position) < 9 for track in tracks1]]"
   ]
  },
  {
   "cell_type": "markdown",
   "id": "df17bae2",
   "metadata": {},
   "source": [
    "Plot the final selection of tracks:"
   ]
  },
  {
   "cell_type": "code",
   "execution_count": null,
   "id": "17a6e70b",
   "metadata": {},
   "outputs": [],
   "source": [
    "plt.figure(figsize = (9,1))\n",
    "track_selection1.plot()"
   ]
  },
  {
   "cell_type": "markdown",
   "id": "83055b4f",
   "metadata": {},
   "source": [
    "Since we are using a repeat sequence and all observed binding events were on-target, we select multiple regions on the same kymograph:"
   ]
  },
  {
   "cell_type": "code",
   "execution_count": null,
   "id": "9c13345f",
   "metadata": {},
   "outputs": [],
   "source": [
    "coordinates = [(8.4,9),(7,7.6),(6.2,6.8),(5.5,6.1),(4.8,5.4),(4.1,4.7),(3.3,3.9),(2.6,3.2),(1.9,2.5),(1.2,1.8),(0.5,1.1)]"
   ]
  },
  {
   "cell_type": "markdown",
   "id": "90ec22a8",
   "metadata": {},
   "source": [
    "Below, we use the above coordinates to select the corresponding region from the kymograph. We check that non of the events overlap in time (as we cannot compute kon for overlapping events) and proceed to compute the time intervals between events:"
   ]
  },
  {
   "cell_type": "code",
   "execution_count": null,
   "id": "2537f73e",
   "metadata": {},
   "outputs": [],
   "source": [
    "def check_any_overlap(tracks):\n",
    "# Iterate over tracked binding events to check for overlap\n",
    "for i in range(len(tracks)):\n",
    "    for j in range(i + 1, len(tracks)):\n",
    "        if check_range_overlap(tracks[i], tracks[j]):\n",
    "            raise Exception(\"Two or more binding events overlap in time! Remove the overlapping events before continuing the analysis.\")\n",
    "\n",
    "def check_range_overlap(track1, track2):\n",
    "    # Find the minimum and maximum values in each array\n",
    "    min1, max1 = np.min(track1.seconds), np.max(track1.seconds)\n",
    "    min2, max2 = np.min(track2.seconds), np.max(track2.seconds)\n",
    "\n",
    "    # Check if the ranges overlap\n",
    "    if (min1 <= max2 and min1 >= min2) or (min2 <= max1 and min2 >= min1):\n",
    "        return True\n",
    "    else:\n",
    "        return False\n",
    "\n",
    "def time_intervals(tracks):\n",
    "    \"\"\"Compute the time intervals between all tracks in a given selection\"\"\"\n",
    "    intervals =  [tracks[x+1].seconds[0]-tracks[x].seconds[-1] for x in range(len(tracks)-1)]\n",
    "    return intervals\n",
    "\n",
    "intervals_total = []\n",
    "\n",
    "for coordinate in coordinates:\n",
    "    bot, top = coordinate\n",
    "    track_selection =  tracks1[[bot < np.mean(track.position) < top for track in tracks1]]\n",
    "    check_any_overlap(track_selection)\n",
    "    intervals = time_intervals(track_selection)\n",
    "    intervals_total += intervals"
   ]
  },
  {
   "cell_type": "markdown",
   "id": "e82614e7",
   "metadata": {},
   "source": [
    "All the time intervals between binding events are stored in the list `intervals_total`. Check how many intervals we have in total:"
   ]
  },
  {
   "cell_type": "code",
   "execution_count": null,
   "id": "cf3db919",
   "metadata": {},
   "outputs": [],
   "source": [
    "len(intervals_total)"
   ]
  },
  {
   "cell_type": "markdown",
   "id": "07129ffb",
   "metadata": {},
   "source": [
    "## Determine kon\n",
    "\n",
    "Binding times are typically exponentially distributed. The distribution can be expressed in terms of the effective on-rate, $k'_{on}$, or in terms of the binding lifetime, $\\tau_{on}$:\n",
    "\n",
    "$$\n",
    "P(t) = k'_{on}e^{-k'_{on}t} = \\frac{1}{\\tau_{on}} e^{-t/\\tau_{on}}\n",
    "$$\n",
    "\n",
    "Below, we fit an exponential function to the distribution of time intervals using Pylake. The parameter `discretization_timestep` accounts for the discrete nature of the data: all time intervals are a multiple of the kymo line time. For this dataset, we could ignore this parameter, because the average time interval is much larger than the kymo line time. When the observed time intervals are close to the kymo line time, it is important to include this parameter for a good fit. We cannot observe time intervals smaller than the line time, which is accounted for by adding the parameter `min_observation_time`."
   ]
  },
  {
   "cell_type": "code",
   "execution_count": null,
   "id": "741d8a6f",
   "metadata": {},
   "outputs": [],
   "source": [
    "single_exponential_fit = lk.DwelltimeModel(np.array(intervals_total), n_components=1, , discretization_timestep = kymo1.line_time_seconds, min_observation_time = kymo1.line_time_seconds)\n",
    "\n",
    "plt.figure()\n",
    "single_exponential_fit.hist()\n",
    "plt.show()"
   ]
  },
  {
   "cell_type": "markdown",
   "id": "c0d3fcba",
   "metadata": {},
   "source": [
    "The fitted binding time is 35 seconds, which is equivalent to an effective rate $k'_{on} = 1/35 = 0.029 s^{-1}$.\n",
    "\n",
    "The confidence intervals can be determined using Bootstrapping:"
   ]
  },
  {
   "cell_type": "code",
   "execution_count": null,
   "id": "93a4e115",
   "metadata": {},
   "outputs": [],
   "source": [
    "bootstrap = single_exponential_fit.calculate_bootstrap(iterations=10000)\n",
    "\n",
    "plt.figure()\n",
    "bootstrap.hist(alpha=0.05)\n",
    "plt.show()"
   ]
  },
  {
   "cell_type": "markdown",
   "id": "8ed903a6",
   "metadata": {},
   "source": [
    "## Conclusion and Outlook\n",
    "\n",
    "The binding time is 35 seconds with a 95% confidence interval of (24,50).\n",
    "\n",
    "As mentioned in the introduction, the obtained binding time depends on the protein concentration. Since we don’t know the protein concentration, this value can only be compared to measurements with the same protein concentration in the flow cell. If you would like to compute the dissociation constant and compare to bulk experiments, the concentration has to be determined 1.\n",
    "\n",
    "1Schaich et al, Single-molecule analysis of DNA-binding proteins from nuclear extracts (SMADNE), NAR (2023)"
   ]
  }
 ],
 "metadata": {},
 "nbformat": 4,
 "nbformat_minor": 5
}